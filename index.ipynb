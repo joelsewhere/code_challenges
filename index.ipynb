{
 "cells": [
  {
   "cell_type": "markdown",
   "id": "f0e53fc6-ab2e-4c54-8c46-5f4acaf2544d",
   "metadata": {
    "index": 0,
    "solution": false
   },
   "source": [
    " # Task: Calculate a running cumulative total\n",
    "\n",
    "An sqlite database is stored in the same directory as this notebook called `orders.db`. The names of the tables and their columns are provided below. Your task is to calculate a cumulative running total for each customer's purchases. \n",
    "\n",
    "\n",
    "**For example...if I have the following table:**\n",
    "\n",
    "|  person  |  date | amount_spent |\n",
    "|:--------:|:-----:|:------------:|\n",
    "| person 1 | day 1 |       1      |\n",
    "| person 2 | day 1 |       5      |\n",
    "| person 1 | day 2 |       2      |\n",
    "| person 2 | day 2 |       8      |\n",
    "| person 1 | day 3 |       9      |\n",
    "| person 2 | day 3 |       2      |\n",
    "\n",
    "\n",
    "**A cumulative total for the above table would produce the following table:**\n",
    "\n",
    "\n",
    "|  person  |  date | cumulative_total |\n",
    "|:--------:|:-----:|:------------:|\n",
    "| person 1 | day 1 |       1      |\n",
    "| person 2 | day 1 |       5      |\n",
    "| person 1 | day 2 |       3      |\n",
    "| person 2 | day 2 |       13     |\n",
    "| person 1 | day 3 |       12     |\n",
    "| person 2 | day 3 |       15     |\n",
    "\n",
    "\n",
    "## SQL Tables\n",
    "\n",
    "### Table name: `orders`\n",
    "\n",
    "**Columns:**\n",
    "- `order_id`\n",
    "- `amount_spent`\n",
    "\n",
    "### Table name: `customer_activity`\n",
    "\n",
    "**Columns:**\n",
    "- `date`\n",
    "- `customer_id`\n",
    "- `order_id`"
   ]
  },
  {
   "cell_type": "markdown",
   "id": "d6ce28dd-db88-4157-a95b-592bd8661579",
   "metadata": {
    "index": 1,
    "solution": false
   },
   "source": [
    "**Some starter code has been provided to set up a connection to the database and make querying the database easier...**"
   ]
  },
  {
   "cell_type": "markdown",
   "id": "afc78009-4f16-440d-a743-62655226bbc4",
   "metadata": {
    "index": 2,
    "solution": false
   },
   "source": [
    "Below, I define a helper function to make it easy for you to write your query. "
   ]
  },
  {
   "cell_type": "code",
   "execution_count": 1,
   "id": "41a171bd-3b30-4ea1-8776-0704e1f81016",
   "metadata": {},
   "outputs": [],
   "source": [
    "# Run this code unchanged\n",
    "import pandas as pd\n",
    "import sqlite3\n",
    "conn = sqlite3.connect('orders.db')\n",
    "\n",
    "def run_query(query_string):\n",
    "    \n",
    "    return pd.read_sql(query_string, conn)"
   ]
  },
  {
   "cell_type": "code",
   "execution_count": 2,
   "id": "9b750ef7-e618-489a-9c29-0bed331715d7",
   "metadata": {
    "execution": {
     "iopub.execute_input": "2022-03-05T04:25:20.183682Z",
     "iopub.status.busy": "2022-03-05T04:25:20.182949Z",
     "iopub.status.idle": "2022-03-05T04:25:20.527384Z",
     "shell.execute_reply": "2022-03-05T04:25:20.527004Z"
    },
    "index": 4,
    "solution": true
   },
   "outputs": [],
   "source": [
    "# Run this code unchanged\n",
    "import pandas as pd\n",
    "import sqlite3\n",
    "conn = sqlite3.connect('orders.db')\n",
    "\n",
    "def run_query(query_string):\n",
    "    \n",
    "    return pd.read_sql(query_string, conn)"
   ]
  },
  {
   "cell_type": "markdown",
   "id": "8eaf7ef9-73cb-4ae9-aaef-221db56d3687",
   "metadata": {
    "index": 5,
    "solution": false
   },
   "source": [
    "**Here is an example of writing an sql query in a jupyter notebook...**"
   ]
  },
  {
   "cell_type": "code",
   "execution_count": 3,
   "id": "4ddac11a-e672-4176-9aeb-e455048d9f5d",
   "metadata": {},
   "outputs": [
    {
     "data": {
      "text/html": [
       "<div>\n",
       "<style scoped>\n",
       "    .dataframe tbody tr th:only-of-type {\n",
       "        vertical-align: middle;\n",
       "    }\n",
       "\n",
       "    .dataframe tbody tr th {\n",
       "        vertical-align: top;\n",
       "    }\n",
       "\n",
       "    .dataframe thead th {\n",
       "        text-align: right;\n",
       "    }\n",
       "</style>\n",
       "<table border=\"1\" class=\"dataframe\">\n",
       "  <thead>\n",
       "    <tr style=\"text-align: right;\">\n",
       "      <th></th>\n",
       "      <th>col1</th>\n",
       "      <th>col2</th>\n",
       "      <th>col3</th>\n",
       "    </tr>\n",
       "  </thead>\n",
       "  <tbody>\n",
       "    <tr>\n",
       "      <th>0</th>\n",
       "      <td>4</td>\n",
       "      <td>5</td>\n",
       "      <td>6</td>\n",
       "    </tr>\n",
       "    <tr>\n",
       "      <th>1</th>\n",
       "      <td>1</td>\n",
       "      <td>2</td>\n",
       "      <td>3</td>\n",
       "    </tr>\n",
       "  </tbody>\n",
       "</table>\n",
       "</div>"
      ],
      "text/plain": [
       "   col1  col2  col3\n",
       "0     4     5     6\n",
       "1     1     2     3"
      ]
     },
     "execution_count": 3,
     "metadata": {},
     "output_type": "execute_result"
    }
   ],
   "source": [
    "# Run this code unchanged\n",
    "\n",
    "## Triple quotations are used\n",
    "## to allow for a multiline string\n",
    "query = \"\"\"\n",
    "\n",
    "select *\n",
    "from example_table\n",
    "order by col3 desc\n",
    "\n",
    "\"\"\"\n",
    "\n",
    "## Pass the query into the `run_query` function\n",
    "run_query(query)"
   ]
  },
  {
   "cell_type": "code",
   "execution_count": 4,
   "id": "f00cabe8-9b2e-456c-9dfc-fe58130c9d2c",
   "metadata": {},
   "outputs": [
    {
     "data": {
      "text/html": [
       "<div>\n",
       "<style scoped>\n",
       "    .dataframe tbody tr th:only-of-type {\n",
       "        vertical-align: middle;\n",
       "    }\n",
       "\n",
       "    .dataframe tbody tr th {\n",
       "        vertical-align: top;\n",
       "    }\n",
       "\n",
       "    .dataframe thead th {\n",
       "        text-align: right;\n",
       "    }\n",
       "</style>\n",
       "<table border=\"1\" class=\"dataframe\">\n",
       "  <thead>\n",
       "    <tr style=\"text-align: right;\">\n",
       "      <th></th>\n",
       "      <th>col1</th>\n",
       "      <th>col2</th>\n",
       "      <th>col3</th>\n",
       "    </tr>\n",
       "  </thead>\n",
       "  <tbody>\n",
       "    <tr>\n",
       "      <th>0</th>\n",
       "      <td>4</td>\n",
       "      <td>5</td>\n",
       "      <td>6</td>\n",
       "    </tr>\n",
       "    <tr>\n",
       "      <th>1</th>\n",
       "      <td>1</td>\n",
       "      <td>2</td>\n",
       "      <td>3</td>\n",
       "    </tr>\n",
       "  </tbody>\n",
       "</table>\n",
       "</div>"
      ],
      "text/plain": [
       "   col1  col2  col3\n",
       "0     4     5     6\n",
       "1     1     2     3"
      ]
     },
     "execution_count": 4,
     "metadata": {},
     "output_type": "execute_result"
    }
   ],
   "source": [
    "# Run this code unchanged\n",
    "\n",
    "## Triple quotations are used\n",
    "## to allow for a multiline string\n",
    "query = \"\"\"\n",
    "\n",
    "select *\n",
    "from example_table\n",
    "order by col3 desc\n",
    "\n",
    "\"\"\"\n",
    "\n",
    "## Pass the query into the `run_query` function\n",
    "run_query(query)"
   ]
  },
  {
   "cell_type": "markdown",
   "id": "a01ba22c-3aab-407f-966f-dd37a4f6066e",
   "metadata": {
    "index": 8,
    "solution": false
   },
   "source": [
    "# Write your query\n",
    "\n",
    "Your query should produce a table with the following columns\n",
    "- date\n",
    "- customer_id\n",
    "- cumulative_total\n",
    "\n",
    "**Sort the results by `date` in ascending order**"
   ]
  },
  {
   "cell_type": "code",
   "execution_count": 5,
   "id": "6b01bad5-25a1-47c4-836b-ee700b30742c",
   "metadata": {},
   "outputs": [],
   "source": [
    "# YOUR CODE GOES HERE\n",
    "\n",
    "query = \"\"\"\n",
    "\n",
    "\n",
    "\n",
    "\n",
    "\"\"\""
   ]
  },
  {
   "cell_type": "code",
   "execution_count": 6,
   "id": "f7d71fe8-560b-4ed7-b348-dae299d8b41c",
   "metadata": {
    "execution": {
     "iopub.execute_input": "2022-03-05T04:25:20.542376Z",
     "iopub.status.busy": "2022-03-05T04:25:20.542236Z",
     "iopub.status.idle": "2022-03-05T04:25:20.544272Z",
     "shell.execute_reply": "2022-03-05T04:25:20.543911Z"
    },
    "index": 10,
    "solution": true
   },
   "outputs": [],
   "source": [
    "\n",
    "query = \"\"\"\n",
    "\n",
    "select date\n",
    "     , customer_id\n",
    "     , sum(amount_spent) \n",
    "       over(partition by customer_id \n",
    "            order by date \n",
    "            rows unbounded preceding) cumulative_total\n",
    "from orders o\n",
    "join customer_activity c\n",
    "on o.order_id = c.order_id\n",
    "order by date asc\n",
    "\n",
    "\"\"\""
   ]
  },
  {
   "cell_type": "code",
   "execution_count": 7,
   "id": "0eb16c73-ddd4-444d-8de6-7db5f916d4cb",
   "metadata": {},
   "outputs": [
    {
     "data": {
      "text/html": [
       "<div>\n",
       "<style scoped>\n",
       "    .dataframe tbody tr th:only-of-type {\n",
       "        vertical-align: middle;\n",
       "    }\n",
       "\n",
       "    .dataframe tbody tr th {\n",
       "        vertical-align: top;\n",
       "    }\n",
       "\n",
       "    .dataframe thead th {\n",
       "        text-align: right;\n",
       "    }\n",
       "</style>\n",
       "<table border=\"1\" class=\"dataframe\">\n",
       "  <thead>\n",
       "    <tr style=\"text-align: right;\">\n",
       "      <th></th>\n",
       "      <th>date</th>\n",
       "      <th>customer_id</th>\n",
       "      <th>cumulative_total</th>\n",
       "    </tr>\n",
       "  </thead>\n",
       "  <tbody>\n",
       "    <tr>\n",
       "      <th>0</th>\n",
       "      <td>2021-05-09 20:36:10.930989</td>\n",
       "      <td>d945201f-e671-4404-9ed7-8cd5930909a6</td>\n",
       "      <td>2.052925</td>\n",
       "    </tr>\n",
       "    <tr>\n",
       "      <th>1</th>\n",
       "      <td>2021-05-10 20:36:10.930989</td>\n",
       "      <td>f1ef9d1e-75df-403f-ae2c-b3615248f3dc</td>\n",
       "      <td>26.615839</td>\n",
       "    </tr>\n",
       "    <tr>\n",
       "      <th>2</th>\n",
       "      <td>2021-05-11 20:36:10.930989</td>\n",
       "      <td>a2d9c4c3-1081-4a9c-b9af-ac162a87ef64</td>\n",
       "      <td>13.575465</td>\n",
       "    </tr>\n",
       "    <tr>\n",
       "      <th>3</th>\n",
       "      <td>2021-05-12 20:36:10.930989</td>\n",
       "      <td>306bed34-5643-412d-9bf8-80c446774419</td>\n",
       "      <td>3.836420</td>\n",
       "    </tr>\n",
       "    <tr>\n",
       "      <th>4</th>\n",
       "      <td>2021-05-13 20:36:10.930989</td>\n",
       "      <td>ba2216d6-4cbc-471d-b62d-4128af46099e</td>\n",
       "      <td>24.635933</td>\n",
       "    </tr>\n",
       "    <tr>\n",
       "      <th>...</th>\n",
       "      <td>...</td>\n",
       "      <td>...</td>\n",
       "      <td>...</td>\n",
       "    </tr>\n",
       "    <tr>\n",
       "      <th>295</th>\n",
       "      <td>2022-02-28 20:36:10.930989</td>\n",
       "      <td>d945201f-e671-4404-9ed7-8cd5930909a6</td>\n",
       "      <td>403.691951</td>\n",
       "    </tr>\n",
       "    <tr>\n",
       "      <th>296</th>\n",
       "      <td>2022-03-01 20:36:10.930989</td>\n",
       "      <td>d945201f-e671-4404-9ed7-8cd5930909a6</td>\n",
       "      <td>421.599754</td>\n",
       "    </tr>\n",
       "    <tr>\n",
       "      <th>297</th>\n",
       "      <td>2022-03-02 20:36:10.930989</td>\n",
       "      <td>f1ef9d1e-75df-403f-ae2c-b3615248f3dc</td>\n",
       "      <td>781.334980</td>\n",
       "    </tr>\n",
       "    <tr>\n",
       "      <th>298</th>\n",
       "      <td>2022-03-03 20:36:10.930989</td>\n",
       "      <td>ba2216d6-4cbc-471d-b62d-4128af46099e</td>\n",
       "      <td>616.290965</td>\n",
       "    </tr>\n",
       "    <tr>\n",
       "      <th>299</th>\n",
       "      <td>2022-03-04 20:36:10.930989</td>\n",
       "      <td>80809436-682c-4d5b-a1ea-c6b92b6142b4</td>\n",
       "      <td>814.520910</td>\n",
       "    </tr>\n",
       "  </tbody>\n",
       "</table>\n",
       "<p>300 rows × 3 columns</p>\n",
       "</div>"
      ],
      "text/plain": [
       "                           date                           customer_id  \\\n",
       "0    2021-05-09 20:36:10.930989  d945201f-e671-4404-9ed7-8cd5930909a6   \n",
       "1    2021-05-10 20:36:10.930989  f1ef9d1e-75df-403f-ae2c-b3615248f3dc   \n",
       "2    2021-05-11 20:36:10.930989  a2d9c4c3-1081-4a9c-b9af-ac162a87ef64   \n",
       "3    2021-05-12 20:36:10.930989  306bed34-5643-412d-9bf8-80c446774419   \n",
       "4    2021-05-13 20:36:10.930989  ba2216d6-4cbc-471d-b62d-4128af46099e   \n",
       "..                          ...                                   ...   \n",
       "295  2022-02-28 20:36:10.930989  d945201f-e671-4404-9ed7-8cd5930909a6   \n",
       "296  2022-03-01 20:36:10.930989  d945201f-e671-4404-9ed7-8cd5930909a6   \n",
       "297  2022-03-02 20:36:10.930989  f1ef9d1e-75df-403f-ae2c-b3615248f3dc   \n",
       "298  2022-03-03 20:36:10.930989  ba2216d6-4cbc-471d-b62d-4128af46099e   \n",
       "299  2022-03-04 20:36:10.930989  80809436-682c-4d5b-a1ea-c6b92b6142b4   \n",
       "\n",
       "     cumulative_total  \n",
       "0            2.052925  \n",
       "1           26.615839  \n",
       "2           13.575465  \n",
       "3            3.836420  \n",
       "4           24.635933  \n",
       "..                ...  \n",
       "295        403.691951  \n",
       "296        421.599754  \n",
       "297        781.334980  \n",
       "298        616.290965  \n",
       "299        814.520910  \n",
       "\n",
       "[300 rows x 3 columns]"
      ]
     },
     "execution_count": 7,
     "metadata": {},
     "output_type": "execute_result"
    }
   ],
   "source": [
    "# Inspect the output of your query here\n",
    "run_query(query)"
   ]
  },
  {
   "cell_type": "code",
   "execution_count": 8,
   "id": "3b6fd147-c723-436e-a6ba-a8b2589dd32c",
   "metadata": {},
   "outputs": [
    {
     "data": {
      "text/html": [
       "<div>\n",
       "<style scoped>\n",
       "    .dataframe tbody tr th:only-of-type {\n",
       "        vertical-align: middle;\n",
       "    }\n",
       "\n",
       "    .dataframe tbody tr th {\n",
       "        vertical-align: top;\n",
       "    }\n",
       "\n",
       "    .dataframe thead th {\n",
       "        text-align: right;\n",
       "    }\n",
       "</style>\n",
       "<table border=\"1\" class=\"dataframe\">\n",
       "  <thead>\n",
       "    <tr style=\"text-align: right;\">\n",
       "      <th></th>\n",
       "      <th>date</th>\n",
       "      <th>customer_id</th>\n",
       "      <th>cumulative_total</th>\n",
       "    </tr>\n",
       "  </thead>\n",
       "  <tbody>\n",
       "    <tr>\n",
       "      <th>0</th>\n",
       "      <td>2021-05-09 20:36:10.930989</td>\n",
       "      <td>d945201f-e671-4404-9ed7-8cd5930909a6</td>\n",
       "      <td>2.052925</td>\n",
       "    </tr>\n",
       "    <tr>\n",
       "      <th>1</th>\n",
       "      <td>2021-05-10 20:36:10.930989</td>\n",
       "      <td>f1ef9d1e-75df-403f-ae2c-b3615248f3dc</td>\n",
       "      <td>26.615839</td>\n",
       "    </tr>\n",
       "    <tr>\n",
       "      <th>2</th>\n",
       "      <td>2021-05-11 20:36:10.930989</td>\n",
       "      <td>a2d9c4c3-1081-4a9c-b9af-ac162a87ef64</td>\n",
       "      <td>13.575465</td>\n",
       "    </tr>\n",
       "    <tr>\n",
       "      <th>3</th>\n",
       "      <td>2021-05-12 20:36:10.930989</td>\n",
       "      <td>306bed34-5643-412d-9bf8-80c446774419</td>\n",
       "      <td>3.836420</td>\n",
       "    </tr>\n",
       "    <tr>\n",
       "      <th>4</th>\n",
       "      <td>2021-05-13 20:36:10.930989</td>\n",
       "      <td>ba2216d6-4cbc-471d-b62d-4128af46099e</td>\n",
       "      <td>24.635933</td>\n",
       "    </tr>\n",
       "    <tr>\n",
       "      <th>...</th>\n",
       "      <td>...</td>\n",
       "      <td>...</td>\n",
       "      <td>...</td>\n",
       "    </tr>\n",
       "    <tr>\n",
       "      <th>295</th>\n",
       "      <td>2022-02-28 20:36:10.930989</td>\n",
       "      <td>d945201f-e671-4404-9ed7-8cd5930909a6</td>\n",
       "      <td>403.691951</td>\n",
       "    </tr>\n",
       "    <tr>\n",
       "      <th>296</th>\n",
       "      <td>2022-03-01 20:36:10.930989</td>\n",
       "      <td>d945201f-e671-4404-9ed7-8cd5930909a6</td>\n",
       "      <td>421.599754</td>\n",
       "    </tr>\n",
       "    <tr>\n",
       "      <th>297</th>\n",
       "      <td>2022-03-02 20:36:10.930989</td>\n",
       "      <td>f1ef9d1e-75df-403f-ae2c-b3615248f3dc</td>\n",
       "      <td>781.334980</td>\n",
       "    </tr>\n",
       "    <tr>\n",
       "      <th>298</th>\n",
       "      <td>2022-03-03 20:36:10.930989</td>\n",
       "      <td>ba2216d6-4cbc-471d-b62d-4128af46099e</td>\n",
       "      <td>616.290965</td>\n",
       "    </tr>\n",
       "    <tr>\n",
       "      <th>299</th>\n",
       "      <td>2022-03-04 20:36:10.930989</td>\n",
       "      <td>80809436-682c-4d5b-a1ea-c6b92b6142b4</td>\n",
       "      <td>814.520910</td>\n",
       "    </tr>\n",
       "  </tbody>\n",
       "</table>\n",
       "<p>300 rows × 3 columns</p>\n",
       "</div>"
      ],
      "text/plain": [
       "                           date                           customer_id  \\\n",
       "0    2021-05-09 20:36:10.930989  d945201f-e671-4404-9ed7-8cd5930909a6   \n",
       "1    2021-05-10 20:36:10.930989  f1ef9d1e-75df-403f-ae2c-b3615248f3dc   \n",
       "2    2021-05-11 20:36:10.930989  a2d9c4c3-1081-4a9c-b9af-ac162a87ef64   \n",
       "3    2021-05-12 20:36:10.930989  306bed34-5643-412d-9bf8-80c446774419   \n",
       "4    2021-05-13 20:36:10.930989  ba2216d6-4cbc-471d-b62d-4128af46099e   \n",
       "..                          ...                                   ...   \n",
       "295  2022-02-28 20:36:10.930989  d945201f-e671-4404-9ed7-8cd5930909a6   \n",
       "296  2022-03-01 20:36:10.930989  d945201f-e671-4404-9ed7-8cd5930909a6   \n",
       "297  2022-03-02 20:36:10.930989  f1ef9d1e-75df-403f-ae2c-b3615248f3dc   \n",
       "298  2022-03-03 20:36:10.930989  ba2216d6-4cbc-471d-b62d-4128af46099e   \n",
       "299  2022-03-04 20:36:10.930989  80809436-682c-4d5b-a1ea-c6b92b6142b4   \n",
       "\n",
       "     cumulative_total  \n",
       "0            2.052925  \n",
       "1           26.615839  \n",
       "2           13.575465  \n",
       "3            3.836420  \n",
       "4           24.635933  \n",
       "..                ...  \n",
       "295        403.691951  \n",
       "296        421.599754  \n",
       "297        781.334980  \n",
       "298        616.290965  \n",
       "299        814.520910  \n",
       "\n",
       "[300 rows x 3 columns]"
      ]
     },
     "execution_count": 8,
     "metadata": {},
     "output_type": "execute_result"
    }
   ],
   "source": [
    "# Inspect the output of your query here\n",
    "run_query(query)"
   ]
  },
  {
   "cell_type": "code",
   "execution_count": 9,
   "id": "6d81d750-a6ce-46d9-8bbd-6e06033d2d18",
   "metadata": {},
   "outputs": [
    {
     "name": "stdout",
     "output_type": "stream",
     "text": [
      "✅ Correct!\n"
     ]
    }
   ],
   "source": [
    "# Run this code to test the results of your query\n",
    "from tests import test\n",
    "a, r = test(query)"
   ]
  },
  {
   "cell_type": "code",
   "execution_count": 10,
   "id": "d94fa423-1ead-49ed-ba39-b14496ebcdb9",
   "metadata": {},
   "outputs": [
    {
     "name": "stdout",
     "output_type": "stream",
     "text": [
      "✅ Correct!\n"
     ]
    }
   ],
   "source": [
    "# Run this code to test the results of your query\n",
    "from tests import test\n",
    "a, r = test(query)"
   ]
  }
 ],
 "metadata": {
  "kernelspec": {
   "display_name": "Python [conda env:general] *",
   "language": "python",
   "name": "conda-env-general-py"
  },
  "language_info": {
   "codemirror_mode": {
    "name": "ipython",
    "version": 3
   },
   "file_extension": ".py",
   "mimetype": "text/x-python",
   "name": "python",
   "nbconvert_exporter": "python",
   "pygments_lexer": "ipython3",
   "version": "3.10.2"
  }
 },
 "nbformat": 4,
 "nbformat_minor": 5
}
