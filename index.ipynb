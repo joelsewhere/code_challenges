{
 "cells": [
  {
   "cell_type": "markdown",
   "id": "91b87374-a1c1-4f38-aa80-fa681e57efc1",
   "metadata": {
    "index": 0,
    "solution": false
   },
   "source": [
    "## Task 1: Write an `SQL` query that counts how many sequential tasks a person has skipped. "
   ]
  },
  {
   "cell_type": "markdown",
   "id": "6af2e857-e3c4-4e2e-ac8d-2fd880664fb8",
   "metadata": {
    "index": 1,
    "solution": false
   },
   "source": [
    "An sqlite3 database called `calculate_skips.db` is stored in this repository. This database contains a single table called `tasks`.\n",
    "\n",
    "### Let's set up a connection to the database and load in the `tasks` table.\n",
    "\n",
    "**Below we..**\n",
    "\n",
    "- Open a connection to the sqlite database\n",
    "- Define a helper function to make querying data easier"
   ]
  },
  {
   "cell_type": "code",
   "execution_count": 21,
   "id": "41b4ac1f-314b-4b25-86dc-3dfc2fcb17f4",
   "metadata": {},
   "outputs": [
    {
     "name": "stderr",
     "output_type": "stream",
     "text": [
      "100%|█████████████████████████████████████████████████████████████████████████████████████████████████████████████████████████████████████████████████████████████████████████████████████████| 100/100 [39:25<00:00, 23.66s/it]\n"
     ]
    }
   ],
   "source": [
    "#__CURRICULUM__\n",
    "from tests import generate_test_data\n",
    "\n",
    "generate_test_data(100)"
   ]
  },
  {
   "cell_type": "code",
   "execution_count": null,
   "id": "cc11f48f-c0fb-4cc1-897c-1875473fd285",
   "metadata": {
    "index": 4,
    "solution": true
   },
   "outputs": [],
   "source": [
    "# Run this cell unchanged\n",
    "import os\n",
    "import pandas as pd\n",
    "import sqlite3\n",
    "\n",
    "# Open connection\n",
    "db_path  = os.path.join('data', 'calculate_skips.db')\n",
    "connection = sqlite3.connect(db_path)\n",
    "\n",
    "# Helper function\n",
    "def run_query(query_string):\n",
    "    \n",
    "    return pd.read_sql(query_string, connection)"
   ]
  },
  {
   "cell_type": "markdown",
   "id": "02617f4b-ea52-4de5-a328-a19f642cf51a",
   "metadata": {
    "index": 5,
    "solution": false
   },
   "source": [
    "To query the database you can pass a query string into the `run_query` helper function."
   ]
  },
  {
   "cell_type": "code",
   "execution_count": null,
   "id": "66113f51-1052-4b03-9acb-248a89e31f06",
   "metadata": {
    "index": 7,
    "solution": true
   },
   "outputs": [],
   "source": [
    "# Run this cell unchanged\n",
    "query = 'select * from tasks'\n",
    "\n",
    "run_query(query)"
   ]
  },
  {
   "cell_type": "markdown",
   "id": "9858cb08-bd84-4a04-a6c7-8511d1f7279a",
   "metadata": {
    "index": 8,
    "solution": false
   },
   "source": [
    "### Write your query\n",
    "\n",
    "Your query should return the following table:\n",
    "\n",
    "| person | skipped |\n",
    "|--------|:---------:|\n",
    "|Person A| 1       |\n",
    "|Person B| 2       |\n",
    "|Person C| 0       |"
   ]
  },
  {
   "cell_type": "code",
   "execution_count": null,
   "id": "1d43f6e7-819e-4b31-aa8b-eebcb8cfc0f8",
   "metadata": {
    "index": 10,
    "solution": true
   },
   "outputs": [],
   "source": [
    "# Your code goes here\n",
    "query = \"\"\"\n",
    "SELECT person, SUM(skipped) skipped\n",
    "FROM (\n",
    "        SELECT  person\n",
    "              , completed = false AND SUM(\n",
    "                                           CASE\n",
    "                                               WHEN completed = true\n",
    "                                               THEN 1\n",
    "                                               ELSE 0\n",
    "                                           END\n",
    "                                   ) OVER(\n",
    "                                           PARTITION BY person\n",
    "                                           ORDER BY ordinality\n",
    "                                           ROWS BETWEEN CURRENT ROW\n",
    "                                           AND UNBOUNDED FOLLOWING\n",
    "                                         ) > 0 skipped\n",
    "        FROM tasks)\n",
    "GROUP BY person\n",
    "\"\"\""
   ]
  },
  {
   "cell_type": "markdown",
   "id": "c6a962e0-b847-4d82-88b3-60b81f0c5587",
   "metadata": {
    "index": 11,
    "solution": false
   },
   "source": [
    "**Run the cell below to check your query's result**"
   ]
  },
  {
   "cell_type": "code",
   "execution_count": null,
   "id": "9e9c608e-2bed-4504-9c13-6831fbedc82a",
   "metadata": {
    "index": 13,
    "solution": true
   },
   "outputs": [],
   "source": [
    "# Run this cell unchanged\n",
    "run_query(query)"
   ]
  },
  {
   "cell_type": "markdown",
   "id": "758f79ac-c36c-4baa-b3c8-78dc8d7633f5",
   "metadata": {
    "index": 15,
    "solution": false
   },
   "source": [
    "**Run the cell below to test your query**"
   ]
  },
  {
   "cell_type": "code",
   "execution_count": null,
   "id": "0788b3bc-06f8-4478-a8f9-7bd27ea1eef0",
   "metadata": {
    "index": 16,
    "solution": true
   },
   "outputs": [],
   "source": [
    "# Run this cell unchanged\n",
    "from tests import test_query\n",
    "test_query(query)"
   ]
  },
  {
   "cell_type": "markdown",
   "id": "47a7daf0-40dd-44cb-9475-37bb6537fdd6",
   "metadata": {
    "index": 17,
    "solution": false
   },
   "source": [
    "## Task 2: Define a function that calculates skip counts in a pandas dataframe\n",
    "\n",
    "Below, we load in the `tasks` table and store the data in the variable `df`"
   ]
  },
  {
   "cell_type": "code",
   "execution_count": null,
   "id": "8c913654-1dab-4ae6-a82d-b9ea3f20f866",
   "metadata": {
    "index": 19,
    "solution": true
   },
   "outputs": [],
   "source": [
    "# Run this cell unchanged\n",
    "df = run_query('select * from tasks')\n",
    "df.head(3)"
   ]
  },
  {
   "cell_type": "markdown",
   "id": "3c9e2646-32fc-4374-a4e6-f27f06288e1c",
   "metadata": {
    "index": 20,
    "solution": false
   },
   "source": [
    "In the cell below, define a function that\n",
    "- Receives a dataframe with `['person', 'task_name', 'ordinality', 'completed']` columns\n",
    "- Returns a table that counts the number of skipped lessons for each person\n",
    "\n",
    "For the dataframe shown above, the function should output a table with the `person` column set as the index. The output should look like this:\n",
    "\n",
    "| person | skipped |\n",
    "|--------|:---------:|\n",
    "|Person A| 1       |\n",
    "|Person B| 2       |\n",
    "|Person C| 0       |\n",
    "\n",
    "_Please note: This function will be tested against *other* randomly generated datasets with the same column names and datatypes. So the function should be written to return skip counts for whatever dataset is passed as an argument_\n",
    "\n"
   ]
  },
  {
   "cell_type": "code",
   "execution_count": null,
   "id": "ce911eef-302c-46db-a787-73904da9b122",
   "metadata": {
    "index": 22,
    "solution": true
   },
   "outputs": [],
   "source": [
    "def calculate_skips(dataframe):\n",
    "    return (dataframe.sort_values('ordinality', ascending=False)\n",
    "           .assign(cumulative=lambda x: x.groupby('person').completed.cumsum(),\n",
    "                   skipped=lambda x: x.apply(lambda y: True if not y.completed \n",
    "                                                            and y.cumulative > 0 \n",
    "                                                            else False, axis=1))\n",
    "           .groupby('person').skipped.sum()\n",
    "           .to_frame().reset_index())"
   ]
  },
  {
   "cell_type": "markdown",
   "id": "546c41e6-3970-4bc1-a836-b3c906269bd7",
   "metadata": {
    "index": 23,
    "solution": false
   },
   "source": [
    "**Run the cell below to check your function's output**"
   ]
  },
  {
   "cell_type": "code",
   "execution_count": null,
   "id": "965a96ea-305b-45bd-82a4-d11d72019329",
   "metadata": {
    "index": 25,
    "solution": true
   },
   "outputs": [],
   "source": [
    "# Run this cell unchanged\n",
    "calculate_skips(df)"
   ]
  },
  {
   "cell_type": "markdown",
   "id": "341726a3-5e88-43ed-b51b-0b6d1dadadf4",
   "metadata": {
    "index": 26,
    "solution": false
   },
   "source": [
    "**Run the cell below to test your function**"
   ]
  },
  {
   "cell_type": "code",
   "execution_count": null,
   "id": "6348ac5f-e8bb-49b4-abf0-4619cb2e21c6",
   "metadata": {
    "index": 28,
    "solution": true
   },
   "outputs": [],
   "source": [
    "# Run this cell unchanged\n",
    "from tests import test_function\n",
    "test_function(calculate_skips)"
   ]
  }
 ],
 "metadata": {
  "kernelspec": {
   "display_name": "Python [conda env:general] *",
   "language": "python",
   "name": "conda-env-general-py"
  },
  "language_info": {
   "codemirror_mode": {
    "name": "ipython",
    "version": 3
   },
   "file_extension": ".py",
   "mimetype": "text/x-python",
   "name": "python",
   "nbconvert_exporter": "python",
   "pygments_lexer": "ipython3",
   "version": "3.10.2"
  }
 },
 "nbformat": 4,
 "nbformat_minor": 5
}
