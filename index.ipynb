{
 "cells": [
  {
   "cell_type": "markdown",
   "id": "91b87374-a1c1-4f38-aa80-fa681e57efc1",
   "metadata": {},
   "source": [
    "## Task 1: Write an `SQL` query that counts how many sequential tasks a person has skipped. "
   ]
  },
  {
   "cell_type": "markdown",
   "id": "6af2e857-e3c4-4e2e-ac8d-2fd880664fb8",
   "metadata": {},
   "source": [
    "An sqlite3 database called `calculate_skips.db` is stored in this repository. This database contains a single table called `tasks`.\n",
    "\n",
    "### Let's set up a connection to the database and load in the `tasks` table.\n",
    "\n",
    "**Below we..**\n",
    "\n",
    "- Open a connection to the sqlite database\n",
    "- Define a helper function to make querying data easier"
   ]
  },
  {
   "cell_type": "code",
   "execution_count": null,
   "id": "41b4ac1f-314b-4b25-86dc-3dfc2fcb17f4",
   "metadata": {},
   "outputs": [
    {
     "name": "stderr",
     "output_type": "stream",
     "text": [
      " 92%|███████████████████████████████████████████████████████████████████████████████████████████████████████████████████████████████████████████████████████████████████████████               | 92/100 [38:09<01:18,  9.86s/it]"
     ]
    }
   ],
   "source": [
    "#__SOLUTION__\n",
    "from tests import generate_test_data\n",
    "\n",
    "generate_test_data(100)"
   ]
  },
  {
   "cell_type": "code",
   "execution_count": 2,
   "id": "d8b47f6b-5781-4c33-9496-a4c249d7cb6a",
   "metadata": {},
   "outputs": [],
   "source": [
    "# Run this cell unchanged\n",
    "import os\n",
    "import sqlite3\n",
    "\n",
    "# Open connection\n",
    "db_path  = os.path.join('data', 'calculate_skips.db')\n",
    "connection = sqlite3.connect(db_path)\n",
    "\n",
    "# Helper function\n",
    "def run_query(query_string):\n",
    "    \n",
    "    return pd.read_sql(query_string, connection)"
   ]
  },
  {
   "cell_type": "code",
   "execution_count": 3,
   "id": "cc11f48f-c0fb-4cc1-897c-1875473fd285",
   "metadata": {},
   "outputs": [],
   "source": [
    "#__SOLUTION__\n",
    "# Run this cell unchanged\n",
    "import os\n",
    "import pandas as pd\n",
    "import sqlite3\n",
    "\n",
    "# Open connection\n",
    "db_path  = os.path.join('data', 'calculate_skips.db')\n",
    "connection = sqlite3.connect(db_path)\n",
    "\n",
    "# Helper function\n",
    "def run_query(query_string):\n",
    "    \n",
    "    return pd.read_sql(query_string, connection)"
   ]
  },
  {
   "cell_type": "markdown",
   "id": "02617f4b-ea52-4de5-a328-a19f642cf51a",
   "metadata": {},
   "source": [
    "To query the database you can pass a query string into the `run_query` helper function."
   ]
  },
  {
   "cell_type": "code",
   "execution_count": 4,
   "id": "8d489877-7936-44dd-b777-cf778a9ba71a",
   "metadata": {},
   "outputs": [
    {
     "data": {
      "text/html": [
       "<div>\n",
       "<style scoped>\n",
       "    .dataframe tbody tr th:only-of-type {\n",
       "        vertical-align: middle;\n",
       "    }\n",
       "\n",
       "    .dataframe tbody tr th {\n",
       "        vertical-align: top;\n",
       "    }\n",
       "\n",
       "    .dataframe thead th {\n",
       "        text-align: right;\n",
       "    }\n",
       "</style>\n",
       "<table border=\"1\" class=\"dataframe\">\n",
       "  <thead>\n",
       "    <tr style=\"text-align: right;\">\n",
       "      <th></th>\n",
       "      <th>person</th>\n",
       "      <th>task_name</th>\n",
       "      <th>ordinality</th>\n",
       "      <th>completed</th>\n",
       "    </tr>\n",
       "  </thead>\n",
       "  <tbody>\n",
       "    <tr>\n",
       "      <th>0</th>\n",
       "      <td>Person A</td>\n",
       "      <td>married-glove</td>\n",
       "      <td>4</td>\n",
       "      <td>0</td>\n",
       "    </tr>\n",
       "    <tr>\n",
       "      <th>1</th>\n",
       "      <td>Person B</td>\n",
       "      <td>married-glove</td>\n",
       "      <td>4</td>\n",
       "      <td>1</td>\n",
       "    </tr>\n",
       "    <tr>\n",
       "      <th>2</th>\n",
       "      <td>Person C</td>\n",
       "      <td>married-glove</td>\n",
       "      <td>4</td>\n",
       "      <td>1</td>\n",
       "    </tr>\n",
       "    <tr>\n",
       "      <th>3</th>\n",
       "      <td>Person A</td>\n",
       "      <td>advanced-refrigerator</td>\n",
       "      <td>3</td>\n",
       "      <td>1</td>\n",
       "    </tr>\n",
       "    <tr>\n",
       "      <th>4</th>\n",
       "      <td>Person B</td>\n",
       "      <td>advanced-refrigerator</td>\n",
       "      <td>3</td>\n",
       "      <td>0</td>\n",
       "    </tr>\n",
       "    <tr>\n",
       "      <th>5</th>\n",
       "      <td>Person C</td>\n",
       "      <td>advanced-refrigerator</td>\n",
       "      <td>3</td>\n",
       "      <td>1</td>\n",
       "    </tr>\n",
       "    <tr>\n",
       "      <th>6</th>\n",
       "      <td>Person A</td>\n",
       "      <td>electric-stop</td>\n",
       "      <td>2</td>\n",
       "      <td>0</td>\n",
       "    </tr>\n",
       "    <tr>\n",
       "      <th>7</th>\n",
       "      <td>Person B</td>\n",
       "      <td>electric-stop</td>\n",
       "      <td>2</td>\n",
       "      <td>0</td>\n",
       "    </tr>\n",
       "    <tr>\n",
       "      <th>8</th>\n",
       "      <td>Person C</td>\n",
       "      <td>electric-stop</td>\n",
       "      <td>2</td>\n",
       "      <td>1</td>\n",
       "    </tr>\n",
       "    <tr>\n",
       "      <th>9</th>\n",
       "      <td>Person A</td>\n",
       "      <td>fair-subject</td>\n",
       "      <td>1</td>\n",
       "      <td>1</td>\n",
       "    </tr>\n",
       "    <tr>\n",
       "      <th>10</th>\n",
       "      <td>Person B</td>\n",
       "      <td>fair-subject</td>\n",
       "      <td>1</td>\n",
       "      <td>1</td>\n",
       "    </tr>\n",
       "    <tr>\n",
       "      <th>11</th>\n",
       "      <td>Person C</td>\n",
       "      <td>fair-subject</td>\n",
       "      <td>1</td>\n",
       "      <td>1</td>\n",
       "    </tr>\n",
       "    <tr>\n",
       "      <th>12</th>\n",
       "      <td>Person A</td>\n",
       "      <td>gloomy-novel</td>\n",
       "      <td>0</td>\n",
       "      <td>1</td>\n",
       "    </tr>\n",
       "    <tr>\n",
       "      <th>13</th>\n",
       "      <td>Person B</td>\n",
       "      <td>gloomy-novel</td>\n",
       "      <td>0</td>\n",
       "      <td>1</td>\n",
       "    </tr>\n",
       "    <tr>\n",
       "      <th>14</th>\n",
       "      <td>Person C</td>\n",
       "      <td>gloomy-novel</td>\n",
       "      <td>0</td>\n",
       "      <td>1</td>\n",
       "    </tr>\n",
       "  </tbody>\n",
       "</table>\n",
       "</div>"
      ],
      "text/plain": [
       "      person              task_name  ordinality  completed\n",
       "0   Person A          married-glove           4          0\n",
       "1   Person B          married-glove           4          1\n",
       "2   Person C          married-glove           4          1\n",
       "3   Person A  advanced-refrigerator           3          1\n",
       "4   Person B  advanced-refrigerator           3          0\n",
       "5   Person C  advanced-refrigerator           3          1\n",
       "6   Person A          electric-stop           2          0\n",
       "7   Person B          electric-stop           2          0\n",
       "8   Person C          electric-stop           2          1\n",
       "9   Person A           fair-subject           1          1\n",
       "10  Person B           fair-subject           1          1\n",
       "11  Person C           fair-subject           1          1\n",
       "12  Person A           gloomy-novel           0          1\n",
       "13  Person B           gloomy-novel           0          1\n",
       "14  Person C           gloomy-novel           0          1"
      ]
     },
     "execution_count": 4,
     "metadata": {},
     "output_type": "execute_result"
    }
   ],
   "source": [
    "# Run this cell unchanged\n",
    "query = 'select * from tasks'\n",
    "\n",
    "run_query(query)"
   ]
  },
  {
   "cell_type": "code",
   "execution_count": 5,
   "id": "66113f51-1052-4b03-9acb-248a89e31f06",
   "metadata": {},
   "outputs": [
    {
     "data": {
      "text/html": [
       "<div>\n",
       "<style scoped>\n",
       "    .dataframe tbody tr th:only-of-type {\n",
       "        vertical-align: middle;\n",
       "    }\n",
       "\n",
       "    .dataframe tbody tr th {\n",
       "        vertical-align: top;\n",
       "    }\n",
       "\n",
       "    .dataframe thead th {\n",
       "        text-align: right;\n",
       "    }\n",
       "</style>\n",
       "<table border=\"1\" class=\"dataframe\">\n",
       "  <thead>\n",
       "    <tr style=\"text-align: right;\">\n",
       "      <th></th>\n",
       "      <th>person</th>\n",
       "      <th>task_name</th>\n",
       "      <th>ordinality</th>\n",
       "      <th>completed</th>\n",
       "    </tr>\n",
       "  </thead>\n",
       "  <tbody>\n",
       "    <tr>\n",
       "      <th>0</th>\n",
       "      <td>Person A</td>\n",
       "      <td>married-glove</td>\n",
       "      <td>4</td>\n",
       "      <td>0</td>\n",
       "    </tr>\n",
       "    <tr>\n",
       "      <th>1</th>\n",
       "      <td>Person B</td>\n",
       "      <td>married-glove</td>\n",
       "      <td>4</td>\n",
       "      <td>1</td>\n",
       "    </tr>\n",
       "    <tr>\n",
       "      <th>2</th>\n",
       "      <td>Person C</td>\n",
       "      <td>married-glove</td>\n",
       "      <td>4</td>\n",
       "      <td>1</td>\n",
       "    </tr>\n",
       "    <tr>\n",
       "      <th>3</th>\n",
       "      <td>Person A</td>\n",
       "      <td>advanced-refrigerator</td>\n",
       "      <td>3</td>\n",
       "      <td>1</td>\n",
       "    </tr>\n",
       "    <tr>\n",
       "      <th>4</th>\n",
       "      <td>Person B</td>\n",
       "      <td>advanced-refrigerator</td>\n",
       "      <td>3</td>\n",
       "      <td>0</td>\n",
       "    </tr>\n",
       "    <tr>\n",
       "      <th>5</th>\n",
       "      <td>Person C</td>\n",
       "      <td>advanced-refrigerator</td>\n",
       "      <td>3</td>\n",
       "      <td>1</td>\n",
       "    </tr>\n",
       "    <tr>\n",
       "      <th>6</th>\n",
       "      <td>Person A</td>\n",
       "      <td>electric-stop</td>\n",
       "      <td>2</td>\n",
       "      <td>0</td>\n",
       "    </tr>\n",
       "    <tr>\n",
       "      <th>7</th>\n",
       "      <td>Person B</td>\n",
       "      <td>electric-stop</td>\n",
       "      <td>2</td>\n",
       "      <td>0</td>\n",
       "    </tr>\n",
       "    <tr>\n",
       "      <th>8</th>\n",
       "      <td>Person C</td>\n",
       "      <td>electric-stop</td>\n",
       "      <td>2</td>\n",
       "      <td>1</td>\n",
       "    </tr>\n",
       "    <tr>\n",
       "      <th>9</th>\n",
       "      <td>Person A</td>\n",
       "      <td>fair-subject</td>\n",
       "      <td>1</td>\n",
       "      <td>1</td>\n",
       "    </tr>\n",
       "    <tr>\n",
       "      <th>10</th>\n",
       "      <td>Person B</td>\n",
       "      <td>fair-subject</td>\n",
       "      <td>1</td>\n",
       "      <td>1</td>\n",
       "    </tr>\n",
       "    <tr>\n",
       "      <th>11</th>\n",
       "      <td>Person C</td>\n",
       "      <td>fair-subject</td>\n",
       "      <td>1</td>\n",
       "      <td>1</td>\n",
       "    </tr>\n",
       "    <tr>\n",
       "      <th>12</th>\n",
       "      <td>Person A</td>\n",
       "      <td>gloomy-novel</td>\n",
       "      <td>0</td>\n",
       "      <td>1</td>\n",
       "    </tr>\n",
       "    <tr>\n",
       "      <th>13</th>\n",
       "      <td>Person B</td>\n",
       "      <td>gloomy-novel</td>\n",
       "      <td>0</td>\n",
       "      <td>1</td>\n",
       "    </tr>\n",
       "    <tr>\n",
       "      <th>14</th>\n",
       "      <td>Person C</td>\n",
       "      <td>gloomy-novel</td>\n",
       "      <td>0</td>\n",
       "      <td>1</td>\n",
       "    </tr>\n",
       "  </tbody>\n",
       "</table>\n",
       "</div>"
      ],
      "text/plain": [
       "      person              task_name  ordinality  completed\n",
       "0   Person A          married-glove           4          0\n",
       "1   Person B          married-glove           4          1\n",
       "2   Person C          married-glove           4          1\n",
       "3   Person A  advanced-refrigerator           3          1\n",
       "4   Person B  advanced-refrigerator           3          0\n",
       "5   Person C  advanced-refrigerator           3          1\n",
       "6   Person A          electric-stop           2          0\n",
       "7   Person B          electric-stop           2          0\n",
       "8   Person C          electric-stop           2          1\n",
       "9   Person A           fair-subject           1          1\n",
       "10  Person B           fair-subject           1          1\n",
       "11  Person C           fair-subject           1          1\n",
       "12  Person A           gloomy-novel           0          1\n",
       "13  Person B           gloomy-novel           0          1\n",
       "14  Person C           gloomy-novel           0          1"
      ]
     },
     "execution_count": 5,
     "metadata": {},
     "output_type": "execute_result"
    }
   ],
   "source": [
    "#__SOLUTION__\n",
    "# Run this cell unchanged\n",
    "query = 'select * from tasks'\n",
    "\n",
    "run_query(query)"
   ]
  },
  {
   "cell_type": "markdown",
   "id": "9858cb08-bd84-4a04-a6c7-8511d1f7279a",
   "metadata": {},
   "source": [
    "### Write your query\n",
    "\n",
    "Your query should return the following table:\n",
    "\n",
    "| person | skipped |\n",
    "|--------|:---------:|\n",
    "|Person A| 1       |\n",
    "|Person B| 2       |\n",
    "|Person C| 0       |"
   ]
  },
  {
   "cell_type": "code",
   "execution_count": 6,
   "id": "ad0732c2-8390-4b21-9446-b2d835516c0f",
   "metadata": {},
   "outputs": [],
   "source": [
    "# Your code goes here\n",
    "query = \"\"\"\n",
    "\n",
    "\n",
    "\"\"\""
   ]
  },
  {
   "cell_type": "code",
   "execution_count": 7,
   "id": "1d43f6e7-819e-4b31-aa8b-eebcb8cfc0f8",
   "metadata": {},
   "outputs": [],
   "source": [
    "#__SOLUTION__\n",
    "# Your code goes here\n",
    "query = \"\"\"\n",
    "SELECT person, SUM(skipped) skipped\n",
    "FROM (\n",
    "        SELECT  person\n",
    "              , completed = false AND SUM(\n",
    "                                           CASE\n",
    "                                               WHEN completed = true\n",
    "                                               THEN 1\n",
    "                                               ELSE 0\n",
    "                                           END\n",
    "                                   ) OVER(\n",
    "                                           PARTITION BY person\n",
    "                                           ORDER BY ordinality\n",
    "                                           ROWS BETWEEN CURRENT ROW\n",
    "                                           AND UNBOUNDED FOLLOWING\n",
    "                                         ) > 0 skipped\n",
    "        FROM tasks)\n",
    "GROUP BY person\n",
    "\"\"\""
   ]
  },
  {
   "cell_type": "markdown",
   "id": "c6a962e0-b847-4d82-88b3-60b81f0c5587",
   "metadata": {},
   "source": [
    "**Run the cell below to check your query's result**"
   ]
  },
  {
   "cell_type": "code",
   "execution_count": 8,
   "id": "96911c58-7125-470c-974a-c7a5d21247e1",
   "metadata": {},
   "outputs": [
    {
     "data": {
      "text/html": [
       "<div>\n",
       "<style scoped>\n",
       "    .dataframe tbody tr th:only-of-type {\n",
       "        vertical-align: middle;\n",
       "    }\n",
       "\n",
       "    .dataframe tbody tr th {\n",
       "        vertical-align: top;\n",
       "    }\n",
       "\n",
       "    .dataframe thead th {\n",
       "        text-align: right;\n",
       "    }\n",
       "</style>\n",
       "<table border=\"1\" class=\"dataframe\">\n",
       "  <thead>\n",
       "    <tr style=\"text-align: right;\">\n",
       "      <th></th>\n",
       "      <th>person</th>\n",
       "      <th>skipped</th>\n",
       "    </tr>\n",
       "  </thead>\n",
       "  <tbody>\n",
       "    <tr>\n",
       "      <th>0</th>\n",
       "      <td>Person A</td>\n",
       "      <td>1</td>\n",
       "    </tr>\n",
       "    <tr>\n",
       "      <th>1</th>\n",
       "      <td>Person B</td>\n",
       "      <td>2</td>\n",
       "    </tr>\n",
       "    <tr>\n",
       "      <th>2</th>\n",
       "      <td>Person C</td>\n",
       "      <td>0</td>\n",
       "    </tr>\n",
       "  </tbody>\n",
       "</table>\n",
       "</div>"
      ],
      "text/plain": [
       "     person  skipped\n",
       "0  Person A        1\n",
       "1  Person B        2\n",
       "2  Person C        0"
      ]
     },
     "execution_count": 8,
     "metadata": {},
     "output_type": "execute_result"
    }
   ],
   "source": [
    "# Run this cell unchanged\n",
    "run_query(query)"
   ]
  },
  {
   "cell_type": "code",
   "execution_count": 9,
   "id": "9e9c608e-2bed-4504-9c13-6831fbedc82a",
   "metadata": {},
   "outputs": [
    {
     "data": {
      "text/html": [
       "<div>\n",
       "<style scoped>\n",
       "    .dataframe tbody tr th:only-of-type {\n",
       "        vertical-align: middle;\n",
       "    }\n",
       "\n",
       "    .dataframe tbody tr th {\n",
       "        vertical-align: top;\n",
       "    }\n",
       "\n",
       "    .dataframe thead th {\n",
       "        text-align: right;\n",
       "    }\n",
       "</style>\n",
       "<table border=\"1\" class=\"dataframe\">\n",
       "  <thead>\n",
       "    <tr style=\"text-align: right;\">\n",
       "      <th></th>\n",
       "      <th>person</th>\n",
       "      <th>skipped</th>\n",
       "    </tr>\n",
       "  </thead>\n",
       "  <tbody>\n",
       "    <tr>\n",
       "      <th>0</th>\n",
       "      <td>Person A</td>\n",
       "      <td>1</td>\n",
       "    </tr>\n",
       "    <tr>\n",
       "      <th>1</th>\n",
       "      <td>Person B</td>\n",
       "      <td>2</td>\n",
       "    </tr>\n",
       "    <tr>\n",
       "      <th>2</th>\n",
       "      <td>Person C</td>\n",
       "      <td>0</td>\n",
       "    </tr>\n",
       "  </tbody>\n",
       "</table>\n",
       "</div>"
      ],
      "text/plain": [
       "     person  skipped\n",
       "0  Person A        1\n",
       "1  Person B        2\n",
       "2  Person C        0"
      ]
     },
     "execution_count": 9,
     "metadata": {},
     "output_type": "execute_result"
    }
   ],
   "source": [
    "#__SOLUTION__\n",
    "# Run this cell unchanged\n",
    "run_query(query)"
   ]
  },
  {
   "cell_type": "code",
   "execution_count": 10,
   "id": "d15d1767-66f5-44a3-9918-e0126fecf802",
   "metadata": {},
   "outputs": [
    {
     "name": "stdout",
     "output_type": "stream",
     "text": [
      "20/20 tests were passed.\n"
     ]
    }
   ],
   "source": [
    "# Run this cell unchanged\n",
    "from tests import test_query\n",
    "test_query(query)"
   ]
  },
  {
   "cell_type": "markdown",
   "id": "758f79ac-c36c-4baa-b3c8-78dc8d7633f5",
   "metadata": {},
   "source": [
    "**Run the cell below to test your query**"
   ]
  },
  {
   "cell_type": "code",
   "execution_count": 11,
   "id": "0788b3bc-06f8-4478-a8f9-7bd27ea1eef0",
   "metadata": {},
   "outputs": [
    {
     "name": "stdout",
     "output_type": "stream",
     "text": [
      "20/20 tests were passed.\n"
     ]
    }
   ],
   "source": [
    "#__SOLUTION__\n",
    "# Run this cell unchanged\n",
    "from tests import test_query\n",
    "test_query(query)"
   ]
  },
  {
   "cell_type": "markdown",
   "id": "47a7daf0-40dd-44cb-9475-37bb6537fdd6",
   "metadata": {},
   "source": [
    "## Task 2: Define a function that calculates skip counts in a pandas dataframe\n",
    "\n",
    "Below, we load in the `tasks` table and store the data in the variable `df`"
   ]
  },
  {
   "cell_type": "code",
   "execution_count": 12,
   "id": "6bfd2f14-2034-48a1-943d-a412098ab370",
   "metadata": {},
   "outputs": [
    {
     "data": {
      "text/html": [
       "<div>\n",
       "<style scoped>\n",
       "    .dataframe tbody tr th:only-of-type {\n",
       "        vertical-align: middle;\n",
       "    }\n",
       "\n",
       "    .dataframe tbody tr th {\n",
       "        vertical-align: top;\n",
       "    }\n",
       "\n",
       "    .dataframe thead th {\n",
       "        text-align: right;\n",
       "    }\n",
       "</style>\n",
       "<table border=\"1\" class=\"dataframe\">\n",
       "  <thead>\n",
       "    <tr style=\"text-align: right;\">\n",
       "      <th></th>\n",
       "      <th>person</th>\n",
       "      <th>task_name</th>\n",
       "      <th>ordinality</th>\n",
       "      <th>completed</th>\n",
       "    </tr>\n",
       "  </thead>\n",
       "  <tbody>\n",
       "    <tr>\n",
       "      <th>0</th>\n",
       "      <td>Person A</td>\n",
       "      <td>married-glove</td>\n",
       "      <td>4</td>\n",
       "      <td>0</td>\n",
       "    </tr>\n",
       "    <tr>\n",
       "      <th>1</th>\n",
       "      <td>Person B</td>\n",
       "      <td>married-glove</td>\n",
       "      <td>4</td>\n",
       "      <td>1</td>\n",
       "    </tr>\n",
       "    <tr>\n",
       "      <th>2</th>\n",
       "      <td>Person C</td>\n",
       "      <td>married-glove</td>\n",
       "      <td>4</td>\n",
       "      <td>1</td>\n",
       "    </tr>\n",
       "  </tbody>\n",
       "</table>\n",
       "</div>"
      ],
      "text/plain": [
       "     person      task_name  ordinality  completed\n",
       "0  Person A  married-glove           4          0\n",
       "1  Person B  married-glove           4          1\n",
       "2  Person C  married-glove           4          1"
      ]
     },
     "execution_count": 12,
     "metadata": {},
     "output_type": "execute_result"
    }
   ],
   "source": [
    "# Run this cell unchanged\n",
    "df = run_query('select * from tasks')\n",
    "df.head(3)"
   ]
  },
  {
   "cell_type": "code",
   "execution_count": 13,
   "id": "8c913654-1dab-4ae6-a82d-b9ea3f20f866",
   "metadata": {},
   "outputs": [
    {
     "data": {
      "text/html": [
       "<div>\n",
       "<style scoped>\n",
       "    .dataframe tbody tr th:only-of-type {\n",
       "        vertical-align: middle;\n",
       "    }\n",
       "\n",
       "    .dataframe tbody tr th {\n",
       "        vertical-align: top;\n",
       "    }\n",
       "\n",
       "    .dataframe thead th {\n",
       "        text-align: right;\n",
       "    }\n",
       "</style>\n",
       "<table border=\"1\" class=\"dataframe\">\n",
       "  <thead>\n",
       "    <tr style=\"text-align: right;\">\n",
       "      <th></th>\n",
       "      <th>person</th>\n",
       "      <th>task_name</th>\n",
       "      <th>ordinality</th>\n",
       "      <th>completed</th>\n",
       "    </tr>\n",
       "  </thead>\n",
       "  <tbody>\n",
       "    <tr>\n",
       "      <th>0</th>\n",
       "      <td>Person A</td>\n",
       "      <td>married-glove</td>\n",
       "      <td>4</td>\n",
       "      <td>0</td>\n",
       "    </tr>\n",
       "    <tr>\n",
       "      <th>1</th>\n",
       "      <td>Person B</td>\n",
       "      <td>married-glove</td>\n",
       "      <td>4</td>\n",
       "      <td>1</td>\n",
       "    </tr>\n",
       "    <tr>\n",
       "      <th>2</th>\n",
       "      <td>Person C</td>\n",
       "      <td>married-glove</td>\n",
       "      <td>4</td>\n",
       "      <td>1</td>\n",
       "    </tr>\n",
       "  </tbody>\n",
       "</table>\n",
       "</div>"
      ],
      "text/plain": [
       "     person      task_name  ordinality  completed\n",
       "0  Person A  married-glove           4          0\n",
       "1  Person B  married-glove           4          1\n",
       "2  Person C  married-glove           4          1"
      ]
     },
     "execution_count": 13,
     "metadata": {},
     "output_type": "execute_result"
    }
   ],
   "source": [
    "#__SOLUTION__\n",
    "# Run this cell unchanged\n",
    "df = run_query('select * from tasks')\n",
    "df.head(3)"
   ]
  },
  {
   "cell_type": "markdown",
   "id": "3c9e2646-32fc-4374-a4e6-f27f06288e1c",
   "metadata": {},
   "source": [
    "In the cell below, define a function that\n",
    "- Receives a dataframe with `['person', 'task_name', 'ordinality', 'completed']` columns\n",
    "- Returns a table that counts the number of skipped lessons for each person\n",
    "\n",
    "For the dataframe shown above, the function should output a table with the `person` column set as the index. The output should look like this:\n",
    "\n",
    "| person | skipped |\n",
    "|--------|:---------:|\n",
    "|Person A| 1       |\n",
    "|Person B| 2       |\n",
    "|Person C| 0       |\n",
    "\n",
    "_Please note: This function will be tested against *other* randomly generated datasets with the same column names and datatypes. So the function should be written to return skip counts for whatever dataset is passed as an argument_\n",
    "\n"
   ]
  },
  {
   "cell_type": "code",
   "execution_count": 14,
   "id": "d60e497e-44c2-48d3-8945-8260b45c0594",
   "metadata": {},
   "outputs": [],
   "source": [
    "def calculate_skips(dataframe):\n",
    "    # Your code goes here\n",
    "    pass"
   ]
  },
  {
   "cell_type": "code",
   "execution_count": 15,
   "id": "ce911eef-302c-46db-a787-73904da9b122",
   "metadata": {},
   "outputs": [],
   "source": [
    "#__SOLUTION__\n",
    "def calculate_skips(dataframe):\n",
    "    return (dataframe.sort_values('ordinality', ascending=False)\n",
    "           .assign(cumulative=lambda x: x.groupby('person').completed.cumsum(),\n",
    "                   skipped=lambda x: x.apply(lambda y: True if not y.completed \n",
    "                                                            and y.cumulative > 0 \n",
    "                                                            else False, axis=1))\n",
    "           .groupby('person').skipped.sum()\n",
    "           .to_frame().reset_index())"
   ]
  },
  {
   "cell_type": "markdown",
   "id": "546c41e6-3970-4bc1-a836-b3c906269bd7",
   "metadata": {},
   "source": [
    "**Run the cell below to check your function's output**"
   ]
  },
  {
   "cell_type": "code",
   "execution_count": 16,
   "id": "172455b5-c7fc-42bf-abe0-2035185e84e4",
   "metadata": {},
   "outputs": [
    {
     "data": {
      "text/html": [
       "<div>\n",
       "<style scoped>\n",
       "    .dataframe tbody tr th:only-of-type {\n",
       "        vertical-align: middle;\n",
       "    }\n",
       "\n",
       "    .dataframe tbody tr th {\n",
       "        vertical-align: top;\n",
       "    }\n",
       "\n",
       "    .dataframe thead th {\n",
       "        text-align: right;\n",
       "    }\n",
       "</style>\n",
       "<table border=\"1\" class=\"dataframe\">\n",
       "  <thead>\n",
       "    <tr style=\"text-align: right;\">\n",
       "      <th></th>\n",
       "      <th>person</th>\n",
       "      <th>skipped</th>\n",
       "    </tr>\n",
       "  </thead>\n",
       "  <tbody>\n",
       "    <tr>\n",
       "      <th>0</th>\n",
       "      <td>Person A</td>\n",
       "      <td>1</td>\n",
       "    </tr>\n",
       "    <tr>\n",
       "      <th>1</th>\n",
       "      <td>Person B</td>\n",
       "      <td>2</td>\n",
       "    </tr>\n",
       "    <tr>\n",
       "      <th>2</th>\n",
       "      <td>Person C</td>\n",
       "      <td>0</td>\n",
       "    </tr>\n",
       "  </tbody>\n",
       "</table>\n",
       "</div>"
      ],
      "text/plain": [
       "     person  skipped\n",
       "0  Person A        1\n",
       "1  Person B        2\n",
       "2  Person C        0"
      ]
     },
     "execution_count": 16,
     "metadata": {},
     "output_type": "execute_result"
    }
   ],
   "source": [
    "# Run this cell unchanged\n",
    "calculate_skips(df)"
   ]
  },
  {
   "cell_type": "code",
   "execution_count": 17,
   "id": "965a96ea-305b-45bd-82a4-d11d72019329",
   "metadata": {},
   "outputs": [
    {
     "data": {
      "text/html": [
       "<div>\n",
       "<style scoped>\n",
       "    .dataframe tbody tr th:only-of-type {\n",
       "        vertical-align: middle;\n",
       "    }\n",
       "\n",
       "    .dataframe tbody tr th {\n",
       "        vertical-align: top;\n",
       "    }\n",
       "\n",
       "    .dataframe thead th {\n",
       "        text-align: right;\n",
       "    }\n",
       "</style>\n",
       "<table border=\"1\" class=\"dataframe\">\n",
       "  <thead>\n",
       "    <tr style=\"text-align: right;\">\n",
       "      <th></th>\n",
       "      <th>person</th>\n",
       "      <th>skipped</th>\n",
       "    </tr>\n",
       "  </thead>\n",
       "  <tbody>\n",
       "    <tr>\n",
       "      <th>0</th>\n",
       "      <td>Person A</td>\n",
       "      <td>1</td>\n",
       "    </tr>\n",
       "    <tr>\n",
       "      <th>1</th>\n",
       "      <td>Person B</td>\n",
       "      <td>2</td>\n",
       "    </tr>\n",
       "    <tr>\n",
       "      <th>2</th>\n",
       "      <td>Person C</td>\n",
       "      <td>0</td>\n",
       "    </tr>\n",
       "  </tbody>\n",
       "</table>\n",
       "</div>"
      ],
      "text/plain": [
       "     person  skipped\n",
       "0  Person A        1\n",
       "1  Person B        2\n",
       "2  Person C        0"
      ]
     },
     "execution_count": 17,
     "metadata": {},
     "output_type": "execute_result"
    }
   ],
   "source": [
    "#__SOLUTION__\n",
    "# Run this cell unchanged\n",
    "calculate_skips(df)"
   ]
  },
  {
   "cell_type": "markdown",
   "id": "341726a3-5e88-43ed-b51b-0b6d1dadadf4",
   "metadata": {},
   "source": [
    "**Run the cell below to test your function**"
   ]
  },
  {
   "cell_type": "code",
   "execution_count": 19,
   "id": "4d474c36-1d11-47bf-a3e6-58760918d3f1",
   "metadata": {},
   "outputs": [
    {
     "name": "stdout",
     "output_type": "stream",
     "text": [
      "20/20 tests were passed.\n"
     ]
    }
   ],
   "source": [
    "# Run this cell unchanged\n",
    "from tests import test_function\n",
    "test_function(calculate_skips)"
   ]
  },
  {
   "cell_type": "code",
   "execution_count": 20,
   "id": "6348ac5f-e8bb-49b4-abf0-4619cb2e21c6",
   "metadata": {},
   "outputs": [
    {
     "name": "stdout",
     "output_type": "stream",
     "text": [
      "20/20 tests were passed.\n"
     ]
    }
   ],
   "source": [
    "#__SOLUTION__\n",
    "# Run this cell unchanged\n",
    "from tests import test_function\n",
    "test_function(calculate_skips)"
   ]
  }
 ],
 "metadata": {
  "kernelspec": {
   "display_name": "Python [conda env:general] *",
   "language": "python",
   "name": "conda-env-general-py"
  },
  "language_info": {
   "codemirror_mode": {
    "name": "ipython",
    "version": 3
   },
   "file_extension": ".py",
   "mimetype": "text/x-python",
   "name": "python",
   "nbconvert_exporter": "python",
   "pygments_lexer": "ipython3",
   "version": "3.10.2"
  }
 },
 "nbformat": 4,
 "nbformat_minor": 5
}
