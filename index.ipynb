{
 "cells": [
  {
   "cell_type": "markdown",
   "id": "f0e53fc6-ab2e-4c54-8c46-5f4acaf2544d",
   "metadata": {
    "index": 0,
    "solution": false
   },
   "source": [
    " # Task: Calculate a running cumulative total\n",
    "\n",
    "An sqlite database is stored in the same directory as this notebook called `orders.db`. The names of the tables and their columns are provided below. Your task is to calculate a cumulative running total for each customer's purchases. \n",
    "\n",
    "\n",
    "**For example...if I have the following table:**\n",
    "\n",
    "|  person  |  date | amount_spent |\n",
    "|:--------:|:-----:|:------------:|\n",
    "| person 1 | day 1 |       1      |\n",
    "| person 2 | day 1 |       5      |\n",
    "| person 1 | day 2 |       2      |\n",
    "| person 2 | day 2 |       8      |\n",
    "| person 1 | day 3 |       9      |\n",
    "| person 2 | day 3 |       2      |\n",
    "\n",
    "\n",
    "**A cumulative total for the above table would produce the following table:**\n",
    "\n",
    "\n",
    "|  person  |  date | cumulative_total |\n",
    "|:--------:|:-----:|:------------:|\n",
    "| person 1 | day 1 |       1      |\n",
    "| person 2 | day 1 |       5      |\n",
    "| person 1 | day 2 |       3      |\n",
    "| person 2 | day 2 |       13     |\n",
    "| person 1 | day 3 |       12     |\n",
    "| person 2 | day 3 |       15     |\n",
    "\n",
    "\n",
    "## SQL Tables\n",
    "\n",
    "### Table name: `orders`\n",
    "\n",
    "**Columns:**\n",
    "- `order_id`\n",
    "- `amount_spent`\n",
    "\n",
    "### Table name: `customer_activity`\n",
    "\n",
    "**Columns:**\n",
    "- `date`\n",
    "- `customer_id`\n",
    "- `order_id`"
   ]
  },
  {
   "cell_type": "markdown",
   "id": "d6ce28dd-db88-4157-a95b-592bd8661579",
   "metadata": {
    "index": 1,
    "solution": false
   },
   "source": [
    "**Some starter code has been provided to set up a connection to the database and make querying the database easier...**"
   ]
  },
  {
   "cell_type": "markdown",
   "id": "afc78009-4f16-440d-a743-62655226bbc4",
   "metadata": {
    "index": 2,
    "solution": false
   },
   "source": [
    "Below, I define a helper function to make it easy for you to write your query. "
   ]
  },
  {
   "cell_type": "code",
   "execution_count": null,
   "id": "41a171bd-3b30-4ea1-8776-0704e1f81016",
   "metadata": {
    "index": 3,
    "solution": false
   },
   "outputs": [],
   "source": [
    "# Run this code unchanged\n",
    "import pandas as pd\n",
    "import sqlite3\n",
    "conn = sqlite3.connect('orders.db')\n",
    "\n",
    "def run_query(query_string):\n",
    "    \n",
    "    return pd.read_sql(query_string, conn)"
   ]
  },
  {
   "cell_type": "markdown",
   "id": "8eaf7ef9-73cb-4ae9-aaef-221db56d3687",
   "metadata": {
    "index": 5,
    "solution": false
   },
   "source": [
    "**Here is an example of writing an sql query in a jupyter notebook...**"
   ]
  },
  {
   "cell_type": "code",
   "execution_count": null,
   "id": "4ddac11a-e672-4176-9aeb-e455048d9f5d",
   "metadata": {
    "index": 6,
    "solution": false
   },
   "outputs": [],
   "source": [
    "# Run this code unchanged\n",
    "\n",
    "## Triple quotations are used\n",
    "## to allow for a multiline string\n",
    "query = \"\"\"\n",
    "\n",
    "select *\n",
    "from example_table\n",
    "order by col3 desc\n",
    "\n",
    "\"\"\"\n",
    "\n",
    "## Pass the query into the `run_query` function\n",
    "run_query(query)"
   ]
  },
  {
   "cell_type": "markdown",
   "id": "a01ba22c-3aab-407f-966f-dd37a4f6066e",
   "metadata": {
    "index": 8,
    "solution": false
   },
   "source": [
    "# Write your query\n",
    "\n",
    "Your query should produce a table with the following columns\n",
    "- date\n",
    "- customer_id\n",
    "- cumulative_total\n",
    "\n",
    "**Sort the results by `date` in ascending order**"
   ]
  },
  {
   "cell_type": "code",
   "execution_count": null,
   "id": "6b01bad5-25a1-47c4-836b-ee700b30742c",
   "metadata": {
    "index": 9,
    "solution": false
   },
   "outputs": [],
   "source": [
    "# YOUR CODE GOES HERE\n",
    "\n",
    "query = \"\"\"\n",
    "\n",
    "\n",
    "\n",
    "\n",
    "\"\"\""
   ]
  },
  {
   "cell_type": "code",
   "execution_count": null,
   "id": "0eb16c73-ddd4-444d-8de6-7db5f916d4cb",
   "metadata": {
    "index": 11,
    "solution": false
   },
   "outputs": [],
   "source": [
    "# Inspect the output of your query here\n",
    "run_query(query)"
   ]
  },
  {
   "cell_type": "code",
   "execution_count": null,
   "id": "6d81d750-a6ce-46d9-8bbd-6e06033d2d18",
   "metadata": {},
   "outputs": [
    {
     "name": "stdout",
     "output_type": "stream",
     "text": [
      "✅ Correct!\n"
     ]
    }
   ],
   "source": [
    "# Run this code to test the results of your query\n",
    "from tests import test\n",
    "test(query)"
   ]
  },
  {
   "cell_type": "code",
   "execution_count": 10,
   "id": "d94fa423-1ead-49ed-ba39-b14496ebcdb9",
   "metadata": {},
   "outputs": [
    {
     "name": "stdout",
     "output_type": "stream",
     "text": [
      "✅ Correct!\n"
     ]
    }
   ],
   "source": [
    "# Run this code to test the results of your query\n",
    "from tests import test\n",
    "test(query)"
   ]
  }
 ],
 "metadata": {
  "kernelspec": {
   "display_name": "Python [conda env:general] *",
   "language": "python",
   "name": "conda-env-general-py"
  },
  "language_info": {
   "codemirror_mode": {
    "name": "ipython",
    "version": 3
   },
   "file_extension": ".py",
   "mimetype": "text/x-python",
   "name": "python",
   "nbconvert_exporter": "python",
   "pygments_lexer": "ipython3",
   "version": "3.10.2"
  }
 },
 "nbformat": 4,
 "nbformat_minor": 5
}
