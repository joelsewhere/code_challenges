{
 "cells": [
  {
   "cell_type": "markdown",
   "id": "3e573d93-fe97-46d7-b45c-cdfe615a8d07",
   "metadata": {
    "index": 1,
    "solution": false
   },
   "source": [
    "# Parsing json in sql\n",
    "\n",
    "In this notebook you will\n",
    "- query an sql database\n",
    "- write an sql query that parses a json data structure\n",
    "- write a [common table expression](https://www.geeksforgeeks.org/cte-in-sql/) (CTE) (this is sort of optional, but we talk about them!)\n",
    "- use a cross join to generate a table of numbers\n",
    "- write an sql query that parses nested json data\n",
    "\n",
    "**Below we open a connection to an sqlite database containing data about public holidays in the United States**"
   ]
  },
  {
   "cell_type": "code",
   "execution_count": null,
   "id": "573eecf9-5604-4bb3-9d99-98b757ef5012",
   "metadata": {
    "index": 2,
    "solution": false
   },
   "outputs": [],
   "source": [
    "# Run this cell unchanged\n",
    "import sqlite3\n",
    "from pathlib import Path\n",
    "\n",
    "db_path = Path('data') / 'holidays.db'\n",
    "connection = sqlite3.connect(db_path)"
   ]
  },
  {
   "cell_type": "markdown",
   "id": "9a791cb5-c8cf-463b-9600-ba0e81ac96bd",
   "metadata": {
    "index": 4,
    "solution": false
   },
   "source": [
    "**Next we define a helper function to make querying the database a bit simpler**"
   ]
  },
  {
   "cell_type": "code",
   "execution_count": null,
   "id": "6891b3a0-5319-4d91-a8ed-a941001d1d43",
   "metadata": {
    "index": 5,
    "solution": false
   },
   "outputs": [],
   "source": [
    "# Run this cell unchanged\n",
    "import pandas as pd\n",
    "\n",
    "def run_query(query):\n",
    "    return pd.read_sql(query, connection)"
   ]
  },
  {
   "cell_type": "markdown",
   "id": "212651c1-8049-4591-8a0d-d86f24de37b8",
   "metadata": {
    "index": 7,
    "solution": false
   },
   "source": [
    "**Now we can run queries by passing a query string into the `run_query` function**"
   ]
  },
  {
   "cell_type": "code",
   "execution_count": null,
   "id": "4027cb5a-99f2-4122-a326-03a7901104d4",
   "metadata": {
    "index": 8,
    "solution": false
   },
   "outputs": [],
   "source": [
    "# Run this cell unchanged\n",
    "q = \"\"\"\n",
    "\n",
    "SELECT * \n",
    "FROM holidays \n",
    "LIMIT 2\n",
    "\n",
    "\"\"\"\n",
    "\n",
    "run_query(q)"
   ]
  },
  {
   "cell_type": "markdown",
   "id": "8e82c332-5ea3-459d-abb7-cf904ead024c",
   "metadata": {
    "index": 10,
    "solution": false
   },
   "source": [
    "## Database Information\n",
    "\n",
    "### Tables\n",
    "\n",
    "1. `holidays`\n",
    "    - Description:\n",
    "        - This table contains information about public holidays that have been scheduled in the United States. \n",
    "    - Columns:\n",
    "        - year (Integer)\n",
    "        - data (Varchar)\n",
    "2. `long_weekends`\n",
    "    - Description:\n",
    "        - This table contains information about weekends during which a public holiday has been scheduled in the United States. \n",
    "    - Columns:\n",
    "        - year (Integer)\n",
    "        - data (Varchar)\n",
    "        \n",
    "_Disclaimer: The holidays data is developed programmatically by [this public api](https://date.nager.at/) and is not always 100% accurate, but it does the job for this assignment._\n",
    "\n",
    "# Task 1 - Write a query that returns the third holiday date for each year\n",
    "\n",
    "**Let's take a look at the json data in the `holidays` table.**"
   ]
  },
  {
   "cell_type": "code",
   "execution_count": null,
   "id": "8dc171c9-4968-4d2e-b607-e5e36ca0180b",
   "metadata": {
    "index": 11,
    "solution": false
   },
   "outputs": [],
   "source": [
    "# Run this cell unchanged\n",
    "import json\n",
    "\n",
    "q = \"\"\"\n",
    "\n",
    "SELECT data \n",
    "FROM holidays \n",
    "LIMIT 1\n",
    "\n",
    "\"\"\"\n",
    "\n",
    "run_query(q).data.apply(json.loads).iloc[0][:4]"
   ]
  },
  {
   "cell_type": "markdown",
   "id": "5d84dfc4-d7d3-43ef-859e-60a6950a9257",
   "metadata": {
    "index": 13,
    "solution": false
   },
   "source": [
    "The sql function we will use to parse this data is [JSON_EXTRACT](https://www.sqlite.org/json1.html#jex).\n",
    "\n",
    "This function requires a minimum of two arguments.\n",
    "1. The json data object you would like to parse\n",
    "2. The \"path\" for accessing the desired data that is stored in the json data object\n",
    "\n",
    "The json data above is structured as a **list of dictionaries**. This means there are two datatypes that we need to manipulate.\n",
    "\n",
    "**Let's take a look at the first datatype. Below is an example of parsing a `list` in sql**\n",
    "\n",
    "```sql\n",
    "SELECT \n",
    "     --Here we use the JSON_EXTRACT function         \n",
    "     JSON_EXTRACT('[\"cat\", \"dog\"]', --The json object is the first argument. It is stored in an sql table as a string\n",
    "                  \n",
    "                  '$[0]' /* The second argument is the \"path\".\n",
    "                          * This function requires that the path begin with a `$` character. \n",
    "                          * The `$` represents a \"json object\".  \n",
    "                          * In this case, the `$` represents the list we would like to index.\n",
    "                          * After the `$` character, we index the list \n",
    "                          * exactly how we would index a list in Python */ \n",
    "                  \n",
    "                 ) AS index_0\n",
    "    \n",
    "   , JSON_EXTRACT('[\"cat\", \"dog\"]', '$[1]') AS index_1\n",
    "```\n",
    "\n",
    "The comments above are provided to break down the query, but they make the logic of the query a little difficult to read. Below we write out the same query without the comments, and then we run the query!"
   ]
  },
  {
   "cell_type": "code",
   "execution_count": null,
   "id": "72c5f424-5f83-4ba1-bb32-c0328bd83497",
   "metadata": {
    "index": 14,
    "solution": false
   },
   "outputs": [],
   "source": [
    "# Run this cell unchanged\n",
    "q = \"\"\"\n",
    "SELECT \n",
    "     JSON_EXTRACT('[\"cat\", \"dog\"]', '$[0]') AS index_0\n",
    "   , JSON_EXTRACT('[\"cat\", \"dog\"]', '$[1]') AS index_1\n",
    "\"\"\"\n",
    "\n",
    "run_query(q)"
   ]
  },
  {
   "cell_type": "markdown",
   "id": "44cfe61a-4cba-45de-a726-e82fac2a8e34",
   "metadata": {
    "index": 16,
    "solution": false
   },
   "source": [
    "Take a second to compare the query we just ran with the commented version. How does the query compare with the output?"
   ]
  },
  {
   "cell_type": "markdown",
   "id": "77187902-1507-4f30-b559-7b45a6fa3e72",
   "metadata": {
    "index": 17,
    "solution": false
   },
   "source": [
    "We just indexed a `list` which is the first part of the query, but the list we are querying is a list of _dictionaries_, and we need to access the `date` variable inside the dictionary. So how to we parse a dictionary?\n",
    "\n",
    "```postgresql\n",
    "SELECT \n",
    "\n",
    "     JSON_EXTRACT('{\"key0\":\"cat\", \"key1\":\"dog\"}', /* Like before, the data is stored as a string, \n",
    "                                                   * only now it's a dictionary instead of a list */\n",
    "                  \n",
    "                  '$.key0' /* The notation for accessing the\n",
    "                            * value of dictionary is slightly different\n",
    "                            * in sqlite than it is in python. \n",
    "                            * Instead of $['key'] which mirrors python syntax\n",
    "                            * we use $.key */\n",
    "                  \n",
    "                 ) AS value_0\n",
    "   , JSON_EXTRACT('{\"key0\":\"cat\", \"key1\":\"dog\"}', '$.key1') AS value_1\n",
    "   \n",
    "```"
   ]
  },
  {
   "cell_type": "markdown",
   "id": "1b688196-8050-4a0d-9325-5e96e58a3206",
   "metadata": {
    "index": 18,
    "solution": false
   },
   "source": [
    "And here is the query without the comments..."
   ]
  },
  {
   "cell_type": "code",
   "execution_count": null,
   "id": "272c1742-d6a9-4e22-9928-3f98c1ac90cf",
   "metadata": {
    "index": 19,
    "solution": false
   },
   "outputs": [],
   "source": [
    "# Run this cell unchanged\n",
    "q = \"\"\"\n",
    "SELECT \n",
    "     JSON_EXTRACT('{\"key0\":\"cat\", \"key1\":\"dog\"}', '$.key0') AS value_0\n",
    "   , JSON_EXTRACT('{\"key0\":\"cat\", \"key1\":\"dog\"}', '$.key1') AS value_1\n",
    "\"\"\"\n",
    "\n",
    "run_query(q)"
   ]
  },
  {
   "cell_type": "markdown",
   "id": "b14c752e-81b1-4898-868f-4901658be2b5",
   "metadata": {
    "index": 21,
    "solution": false
   },
   "source": [
    "Ok, so... \n",
    "- we know how to index a list in sql\n",
    "- we know how to key a dictionary in sql\n",
    "\n",
    "What if we have a dictionary _inside_ a list. How does that work?\n",
    "\n",
    "Let's take the dictionary from the above example and make it a nested data structure:\n",
    "```\n",
    "[{\"key0\":\"cat\"}, {\"key0\":\"dog\"}]\n",
    "```\n",
    "\n",
    "Here is an example of parsing this nested data..."
   ]
  },
  {
   "cell_type": "code",
   "execution_count": null,
   "id": "5240186b-8479-43dd-a234-7fce88bbea72",
   "metadata": {
    "index": 22,
    "solution": false
   },
   "outputs": [],
   "source": [
    "# Run this cell unchanged\n",
    "q = \"\"\"\n",
    "\n",
    "SELECT \n",
    "    JSON_EXTRACT('[{\"key0\":\"cat\"}, {\"key0\":\"dog\"}]', '$[0].key0') dictionary_0\n",
    "  , JSON_EXTRACT('[{\"key0\":\"cat\"}, {\"key0\":\"dog\"}]', '$[1].key0') dictionary_1\n",
    "\n",
    "\"\"\"\n",
    "\n",
    "run_query(q)"
   ]
  },
  {
   "cell_type": "markdown",
   "id": "a385c175-64c3-475c-a956-0d4d013cd58e",
   "metadata": {
    "index": 24,
    "solution": false
   },
   "source": [
    "## Task 1 - Write your query\n",
    "\n",
    "In the cell below, write a query that collects the third holiday date for each year\n",
    "\n",
    "Your query should return an output that looks like this\n",
    "\n",
    "|    |   year | third_holiday_date   |\n",
    "|---:|-------:|:---------------------|\n",
    "|  0 |   2010 | 2010-02-15           |\n",
    "|  1 |   2011 | 2011-02-21           |\n",
    "|  2 |   2012 | 2012-02-20           |\n",
    "|  3 |   2013 | 2013-01-21           |\n",
    "|  4 |   2014 | 2014-02-17           |\n",
    "|  5 |   2015 | 2015-02-16           |\n",
    "|  6 |   2016 | 2016-02-15           |\n",
    "|  7 |   2017 | 2017-01-20           |\n",
    "|  8 |   2018 | 2018-02-19           |\n",
    "|  9 |   2019 | 2019-02-18           |\n",
    "| 10 |   2020 | 2020-02-17           |\n",
    "| 11 |   2021 | 2021-01-20           |\n",
    "| 12 |   2022 | 2022-02-21           |"
   ]
  },
  {
   "cell_type": "code",
   "execution_count": null,
   "id": "bc6ae2a5-e803-4495-a4ff-2f14027240d2",
   "metadata": {
    "index": 25,
    "solution": false
   },
   "outputs": [],
   "source": [
    "# Your code goes here\n",
    "q = \"\"\"\n",
    "\n",
    "\n",
    "\n",
    "\"\"\""
   ]
  },
  {
   "cell_type": "code",
   "execution_count": null,
   "id": "8a929af4-0250-4742-a733-683e94dc6863",
   "metadata": {
    "index": 26,
    "solution": false
   },
   "outputs": [],
   "source": [
    "# Run this cell to check your queries output\n",
    "run_query(q)"
   ]
  },
  {
   "cell_type": "markdown",
   "id": "8ad17526-7edd-4e82-8898-e5f010cf3005",
   "metadata": {
    "index": 29,
    "solution": false
   },
   "source": [
    "# Task 2 - Unnest the data\n",
    "\n",
    "This task is a _total_ level up, but it's where the usage of `JSON_EXTRACT` gets really cool/useful!\n",
    "\n",
    "The goal for this task is to esssentially expand the `holidays` table vertically, by turning every nested dictionary into an individual row/observation. For those familiar with pandas, we're basically running a `.explode`. \n",
    "\n",
    "The important information from the cell below is what the original data looks like, and what it looks like once we've expanded it vertically. \n",
    "> I've added comments to the cell below if you'd like to explore how to do this in pandas, but it's not the point of this assignment so you're welcome to run the cell, look at the output, and move on! "
   ]
  },
  {
   "cell_type": "code",
   "execution_count": null,
   "id": "b2c6816a-fc35-41b1-8045-e63895fa53d0",
   "metadata": {
    "index": 30,
    "solution": false
   },
   "outputs": [],
   "source": [
    "# Run this cell unchanged\n",
    "from IPython.display import Markdown\n",
    "display(Markdown('### The original data:'))\n",
    "display(run_query('select * from holidays'))\n",
    "display(Markdown('### The vertically expanded data:'))\n",
    "\n",
    "pd.DataFrame(run_query('select * from holidays') # load the entire holidays tables\n",
    " .assign(data=lambda x:x.data.apply(json.loads)) # convert the lists in the data column to actual lists (They are strings in sql)\n",
    " .explode('data') # expand the table vertically so each list observation is given its own row\n",
    " .data.tolist() # Converting the results to a list of dictionaries so pandas can read the individual dictionaries\n",
    ").assign(year=lambda x: x.date.str[:4]) # Adding the year column back in"
   ]
  },
  {
   "cell_type": "markdown",
   "id": "aaa7e1f6-6b36-4062-9197-c07247ada818",
   "metadata": {
    "index": 32,
    "solution": false
   },
   "source": [
    "**Ok so how do we do this in sql????**\n",
    "\n",
    "Let's start with talking about **[unions](https://www.w3schools.com/sql/sql_ref_union.asp)** and **[cross joins](https://www.w3resource.com/sql/joins/cross-join.php)**\n",
    "\n",
    "A **union** takes two tables and merges them vertically. In pandas a union is done via the `pd.concat` function..."
   ]
  },
  {
   "cell_type": "code",
   "execution_count": null,
   "id": "e27cb0c5-76c3-4d4c-b5a6-9896adbef5f2",
   "metadata": {
    "index": 33,
    "solution": false
   },
   "outputs": [],
   "source": [
    "# Run this cell unchanged\n",
    "fake_data_1 = pd.DataFrame([[1,2,3],\n",
    "                            [4,5,6]])\n",
    "\n",
    "fake_data_2 = pd.DataFrame([[7,8,9],\n",
    "                            [10, 11, 12]])\n",
    "\n",
    "display(Markdown('### Dataset 1'))\n",
    "display(fake_data_1)\n",
    "display(Markdown('### Dataset 2'))\n",
    "display(fake_data_2)\n",
    "display(Markdown('### Union/Concatenated Data'))\n",
    "pd.concat([fake_data_1, fake_data_2])"
   ]
  },
  {
   "cell_type": "markdown",
   "id": "39a6e680-1164-45d4-b131-c299a298aa20",
   "metadata": {
    "index": 35,
    "solution": false
   },
   "source": [
    "In sql, it looks like this..."
   ]
  },
  {
   "cell_type": "code",
   "execution_count": null,
   "id": "f39f6f3b-6855-4b8f-bc8b-df1a2f75cfd5",
   "metadata": {
    "index": 36,
    "solution": false
   },
   "outputs": [],
   "source": [
    "# Run this cell unchanged\n",
    "q = \"\"\"\n",
    "\n",
    "SELECT 1, 2, 3\n",
    "UNION ALL\n",
    "SELECT 4, 5, 6\n",
    "UNION ALL\n",
    "SELECT 7, 8, 9\n",
    "UNION ALL\n",
    "SELECT 10, 11, 12\n",
    "\n",
    "\"\"\"\n",
    "\n",
    "run_query(q)"
   ]
  },
  {
   "cell_type": "markdown",
   "id": "2966323e-ca7e-4e38-a44e-755bd3be5043",
   "metadata": {
    "index": 38,
    "solution": false
   },
   "source": [
    "Ur probably like, \"Cool...but...why are we talking about **unions**???\"\"\n",
    "\n",
    "Solid question. To unnest the json data, we essentially need to run a **for loop** in sql. This for loop iterates over a range of numbers, and uses each number to index the list of holiday dictionaries in order to pull the data from the list. We will use unions to generate the range of numbers.\n",
    "\n",
    "In the above example, I coded out every number manually. Does that mean, if we have a list of 100 dictionaries that we need to write out every number from 0-99? Happily, the answer is no. That is what brings us to **cross joins**.\n",
    "\n",
    "A **cross join** takes two tables and merges every row in table 1 with every row in table 2. In Python, this is oftentimes referred to as finding the \"product\"."
   ]
  },
  {
   "cell_type": "code",
   "execution_count": null,
   "id": "b2b896f3-84eb-4661-9d63-51a0d8fa68ca",
   "metadata": {
    "index": 39,
    "solution": false
   },
   "outputs": [],
   "source": [
    "# Run this cell unchanged\n",
    "from itertools import product\n",
    "\n",
    "list_1 = [1,2,3]\n",
    "list_2 = [4,5,6]\n",
    "\n",
    "list(product(list_1, list_2))"
   ]
  },
  {
   "cell_type": "markdown",
   "id": "58a10303-6ca4-44e6-8a7c-4879e178dec1",
   "metadata": {
    "index": 41,
    "solution": false
   },
   "source": [
    "The code cell above takes two lists `[1,2,3]` and `[4,5,6]` and then generates every possible combination of two numbers between the data in both lists.\n",
    "\n",
    "In sql, the two lists represent two seperate tables, and each number represents a row.\n",
    "\n",
    "Here is the same result in sql..."
   ]
  },
  {
   "cell_type": "code",
   "execution_count": null,
   "id": "a029fd45-1bbf-40f7-99c3-a190c734f1d8",
   "metadata": {
    "index": 42,
    "solution": false
   },
   "outputs": [],
   "source": [
    "# Run this cell unchanged\n",
    "q = \"\"\"\n",
    "\n",
    "SELECT * FROM\n",
    "(          SELECT 1\n",
    " UNION ALL SELECT 2\n",
    " UNION ALL SELECT 3)\n",
    " \n",
    "CROSS JOIN\n",
    "\n",
    "(          SELECT 4\n",
    " UNION ALL SELECT 5\n",
    " UNION ALL SELECT 6)\n",
    "\n",
    "\"\"\"\n",
    "\n",
    "# Using cursor because column names are not needed\n",
    "connection.cursor().execute(q).fetchall()"
   ]
  },
  {
   "cell_type": "markdown",
   "id": "b1cee08d-51c6-457e-afff-1f1e9272dc41",
   "metadata": {
    "index": 44,
    "solution": false
   },
   "source": [
    "Again, you are probably wondering, \"how are cross joins relevant to our problem?\"\n",
    "\n",
    "We can use cross joins to expand our list of numbers by cross joining the numbers `0-9` with `10-19` and adding them together.\n",
    "\n",
    "It looks like this..."
   ]
  },
  {
   "cell_type": "code",
   "execution_count": null,
   "id": "524ffb55-4d1f-4dae-87c3-e5a8060604f8",
   "metadata": {
    "index": 45,
    "solution": false
   },
   "outputs": [],
   "source": [
    "# Run this cell unchanged\n",
    "q = \"\"\"\n",
    "SELECT n1.num || ' + ' || (n2.num * 10) || ' =' number1_number2\n",
    "     , n1.num + n2.num * 10 number_range\n",
    "FROM\n",
    "(         SELECT 0 AS num\n",
    "UNION ALL SELECT 1 AS num\n",
    "UNION ALL SELECT 2 AS num\n",
    "UNION ALL SELECT 3 AS num\n",
    "UNION ALL SELECT 4 AS num\n",
    "UNION ALL SELECT 5 as num\n",
    "UNION ALL SELECT 6 as num\n",
    "UNION ALL SELECT 7 as num\n",
    "UNION ALL SELECT 8 as num\n",
    "UNION ALL SELECT 9 as num) n1\n",
    "\n",
    "CROSS JOIN\n",
    "\n",
    "(         SELECT 0 AS num\n",
    "UNION ALL SELECT 1 AS num\n",
    "UNION ALL SELECT 2 AS num\n",
    "UNION ALL SELECT 3 AS num\n",
    "UNION ALL SELECT 4 AS num\n",
    "UNION ALL SELECT 5 as num\n",
    "UNION ALL SELECT 6 as num\n",
    "UNION ALL SELECT 7 as num\n",
    "UNION ALL SELECT 8 as num\n",
    "UNION ALL SELECT 9 as num) n2\n",
    "ORDER BY number_range\n",
    "\n",
    "\"\"\"\n",
    "\n",
    "run_query(q)"
   ]
  },
  {
   "cell_type": "markdown",
   "id": "6103d03e-2058-4c44-a197-07b16a715b13",
   "metadata": {
    "index": 47,
    "solution": false
   },
   "source": [
    "The first column above is a string concatenation of the two numbers from each table, and is meant to show you how each number in the `number_range` column is being created. We can increase the numbers in our range by adding a third cross join and multiplying it by 100"
   ]
  },
  {
   "cell_type": "code",
   "execution_count": null,
   "id": "701b67cb-2ed9-4476-8289-3e4b9445e832",
   "metadata": {
    "index": 48,
    "solution": false
   },
   "outputs": [],
   "source": [
    "# Run this cell unchanged\n",
    "q = \"\"\"\n",
    "SELECT n1.num || ' + ' || (n2.num * 10) || ' + ' || (n3.num * 100) || ' =' number1_number2_number3\n",
    "     , n1.num + n2.num * 10 + n3.num * 100 number_range\n",
    "FROM\n",
    "(SELECT 0 AS num\n",
    "UNION ALL SELECT 1 AS num\n",
    "UNION ALL SELECT 2 AS num\n",
    "UNION ALL SELECT 3 AS num\n",
    "UNION ALL SELECT 4 AS num\n",
    "UNION ALL SELECT 5 as num\n",
    "UNION ALL SELECT 6 as num\n",
    "UNION ALL SELECT 7 as num\n",
    "UNION ALL SELECT 8 as num\n",
    "UNION ALL SELECT 9 as num) n1\n",
    "\n",
    "CROSS JOIN\n",
    "\n",
    "(SELECT 0 AS num\n",
    "UNION ALL SELECT 1 AS num\n",
    "UNION ALL SELECT 2 AS num\n",
    "UNION ALL SELECT 3 AS num\n",
    "UNION ALL SELECT 4 AS num\n",
    "UNION ALL SELECT 5 as num\n",
    "UNION ALL SELECT 6 as num\n",
    "UNION ALL SELECT 7 as num\n",
    "UNION ALL SELECT 8 as num\n",
    "UNION ALL SELECT 9 as num) n2\n",
    "\n",
    "CROSS JOIN\n",
    "\n",
    "(SELECT 0 AS num\n",
    "UNION ALL SELECT 1 AS num\n",
    "UNION ALL SELECT 2 AS num\n",
    "UNION ALL SELECT 3 AS num\n",
    "UNION ALL SELECT 4 AS num\n",
    "UNION ALL SELECT 5 as num\n",
    "UNION ALL SELECT 6 as num\n",
    "UNION ALL SELECT 7 as num\n",
    "UNION ALL SELECT 8 as num\n",
    "UNION ALL SELECT 9 as num) n3\n",
    "ORDER BY number_range\n",
    "\n",
    "\"\"\"\n",
    "\n",
    "run_query(q)"
   ]
  },
  {
   "cell_type": "markdown",
   "id": "5703288b-4e9f-44da-bd45-ec288bf810c5",
   "metadata": {
    "index": 50,
    "solution": false
   },
   "source": [
    "Now, you may have noticed that our sql is getting a little...messy. If we continue writing our sql this way, our final solution for this problem is going to become _very_ difficult to read. So let's quickly talk about **[Common Table Expressions](https://www.sqlshack.com/sql-server-common-table-expressions-cte/)** (CTE).\n",
    "\n",
    "CTE's are mostly designed to improve readability of sql and to help avoid redundancy when writing a query. \n",
    "\n",
    "In the above query, we have two steps happening.\n",
    "1. We create a table of numbers 1-9\n",
    "2. We query the table of numbers and cross join it with itself\n",
    "\n",
    "Right now, the 1st step is _inside_ the second step, and it's a little difficult to read. We technically have to read the query from the bottom up in order to read it in the sequential order. Plus, we have to repeat the code for the numbers 1-9 three times, which 1) it's super annoying to write duplicate code and 2) the duplication increases our risk or errors and slows us down if we ever need to update the code in the future.  \n",
    "\n",
    "**CTE's allow us to** \n",
    "- Structure our sql so we can read a query from the top down (we do not have to nest tables inside each other with **subqueries**.)\n",
    "- Avoid writing the same sql more than once\n",
    "\n",
    "Let's look at an example:"
   ]
  },
  {
   "cell_type": "code",
   "execution_count": null,
   "id": "4f50295b-d21c-46b1-8852-b4e334c6a6cb",
   "metadata": {
    "index": 51,
    "solution": false
   },
   "outputs": [],
   "source": [
    "# Run this cell unchanged\n",
    "q = \"\"\"\n",
    "\n",
    "WITH numbers AS (\n",
    "                 SELECT 0 AS num\n",
    "                 UNION ALL SELECT 1 AS num\n",
    "                 UNION ALL SELECT 2 AS num\n",
    "                 UNION ALL SELECT 3 AS num\n",
    "                 UNION ALL SELECT 4 AS num\n",
    "                 UNION ALL SELECT 5 as num\n",
    "                 UNION ALL SELECT 6 as num\n",
    "                 UNION ALL SELECT 7 as num\n",
    "                 UNION ALL SELECT 8 as num\n",
    "                 UNION ALL SELECT 9 as num\n",
    ")\n",
    ", number_range AS ( SELECT n1.num || ' + ' || (n2.num * 10) || ' + ' || (n3.num * 100) || ' =' number1_number2_number3\n",
    "                         , n1.num + n2.num * 10 + n3.num * 100 AS number_range\n",
    "                    FROM numbers n1\n",
    "                    CROSS JOIN numbers n2\n",
    "                    CROSS JOIN numbers n3\n",
    "                    ORDER BY number_range\n",
    ")\n",
    "SELECT * FROM number_range\n",
    "\n",
    "\"\"\"\n",
    "\n",
    "run_query(q)"
   ]
  },
  {
   "cell_type": "markdown",
   "id": "c1f8b1df-73c1-4a2e-a7bb-158743d0c438",
   "metadata": {
    "index": 53,
    "solution": false
   },
   "source": [
    "In the above query...\n",
    "1. We tell the computer we would like to use CTE's via the `WITH` command\n",
    "1. We define a table called `numbers` that contains the numbers `1-9`\n",
    "1. We define a table called `number_range` that cross joins the `numbers` table with itself three times\n",
    "\n",
    "The general syntax for a CTE is \n",
    "\n",
    "```mysql\n",
    "\n",
    "WITH <table_name> AS (<query>), <table_name> AS (<query>), <table_name> AS (<query>) <FINAL OUTPUT QUERY>\n",
    "```"
   ]
  },
  {
   "cell_type": "markdown",
   "id": "de91bdc5-5893-43a2-82cd-5fa6891d7fc7",
   "metadata": {
    "index": 54,
    "solution": false
   },
   "source": [
    "Ok so with this in mind, let's use CTEs to write out the rest of our query...\n",
    "\n",
    "Before we write out the final query, let's take a look at how we turn this range of numbers into a \"for loop\""
   ]
  },
  {
   "cell_type": "code",
   "execution_count": null,
   "id": "6842cc8f-8696-4e81-ac14-150a8746f382",
   "metadata": {
    "index": 55,
    "solution": false
   },
   "outputs": [],
   "source": [
    "# Run this cell unchanged\n",
    "run_query('select * from long_weekends limit 1')"
   ]
  },
  {
   "cell_type": "markdown",
   "id": "7fe919a9-690e-4e98-8151-ef574f505f11",
   "metadata": {
    "index": 57,
    "solution": false
   },
   "source": [
    "Let's say we want to expand json data in the output below so each dictionary has its own row. For now we will just grab the `startDate` and `endDate` for each dictionary.\n",
    "\n",
    "We can do this by...\n",
    "1. Defining a range of numbers that encompass the length of the list of dictionaries\n",
    "2. Cross joining the list of dictionaries with the range of numbers\n",
    "3. Passing the number from the range of numbers into `JSON_EXTRACT`."
   ]
  },
  {
   "cell_type": "code",
   "execution_count": null,
   "id": "26d614f7-fc3f-4426-8d8f-73a69b132877",
   "metadata": {
    "index": 58,
    "solution": false
   },
   "outputs": [],
   "source": [
    "# Run this cell unchanged\n",
    "q = \"\"\"\n",
    "\n",
    "WITH numbers AS (\n",
    "                 SELECT 0 AS num\n",
    "                 UNION ALL SELECT 1 AS num\n",
    "                 UNION ALL SELECT 2 AS num\n",
    "                 UNION ALL SELECT 3 AS num\n",
    "                 UNION ALL SELECT 4 AS num\n",
    "                 UNION ALL SELECT 5 as num\n",
    "                 UNION ALL SELECT 6 as num\n",
    "                 UNION ALL SELECT 7 as num\n",
    "                 UNION ALL SELECT 8 as num\n",
    "                 UNION ALL SELECT 9 as num\n",
    ")\n",
    ", for_loop AS (\n",
    "                SELECT 0 + n1.num + n2.num * 10 + n3.num * 100 AS i\n",
    "                FROM numbers n1\n",
    "                CROSS JOIN numbers n2\n",
    "                CROSS JOIN numbers n3\n",
    "                ORDER BY i\n",
    "                )\n",
    "SELECT\n",
    "       JSON_EXTRACT(l.data, '$['|| loop.i || '].startDate') start_date\n",
    "     , JSON_EXTRACT(l.data, '$['|| loop.i || '].endDate') end_date\n",
    "     , l.year\n",
    "FROM (SELECT * FROM long_weekends LIMIT 1) l \n",
    "CROSS JOIN for_loop loop\n",
    "\"\"\"\n",
    "\n",
    "run_query(q)"
   ]
  },
  {
   "cell_type": "markdown",
   "id": "8f7f3ab0-e465-4e07-9b69-3df17abcece8",
   "metadata": {
    "index": 60,
    "solution": false
   },
   "source": [
    "Looking at the output above, we have a bunch of values with no `start_date` or `end_date`. This is because we are looping over the numbers `1-1000` and 2010 did not have 1,000 long weekends. We can avoid this by either filtering out nulls in the final query or by limiting the size of the `for_loop` table."
   ]
  },
  {
   "cell_type": "markdown",
   "id": "9850d6b4-b1af-4bc4-bbc0-46358c0fb066",
   "metadata": {
    "index": 61,
    "solution": false
   },
   "source": [
    "### Task 2 - Write your query"
   ]
  },
  {
   "cell_type": "markdown",
   "id": "eb5d7ff8-6386-4c7e-8068-a2784c52287f",
   "metadata": {
    "index": 62,
    "solution": false
   },
   "source": [
    "Ok, time for you to do some pattern matching and write out a query that vertically expands the holidays table! The code should be very similar to the query above!\n",
    "\n",
    "As a reminder, your query should return data that looks like the following output via pandas:"
   ]
  },
  {
   "cell_type": "code",
   "execution_count": null,
   "id": "c713869f-a94d-4e72-b5a7-50d71b3ad5df",
   "metadata": {
    "index": 63,
    "solution": false
   },
   "outputs": [],
   "source": [
    "# Run this cell unchanged\n",
    "pd.DataFrame(run_query('select * from holidays')\n",
    " .assign(data=lambda x:x.data.apply(json.loads))\n",
    " .explode('data')\n",
    " .data.tolist() \n",
    ").assign(year=lambda x: x.date.str[:4])"
   ]
  },
  {
   "cell_type": "code",
   "execution_count": null,
   "id": "0b1cf638-acb1-4bac-bf4b-54dd7b41e686",
   "metadata": {
    "index": 65,
    "solution": false
   },
   "outputs": [],
   "source": [
    "# Your code here\n",
    "q = \"\"\"\n",
    "\n",
    "\n",
    "\n",
    "\"\"\""
   ]
  },
  {
   "cell_type": "code",
   "execution_count": null,
   "id": "e611ae6a-fac7-42a1-b899-b936600cde18",
   "metadata": {
    "index": 66,
    "solution": false
   },
   "outputs": [],
   "source": [
    "# Run this cell to check your query's output\n",
    "run_query(q)"
   ]
  }
 ],
 "metadata": {
  "kernelspec": {
   "display_name": "Python 3 (ipykernel)",
   "language": "python",
   "name": "python3"
  },
  "language_info": {
   "codemirror_mode": {
    "name": "ipython",
    "version": 3
   },
   "file_extension": ".py",
   "mimetype": "text/x-python",
   "name": "python",
   "nbconvert_exporter": "python",
   "pygments_lexer": "ipython3",
   "version": "3.9.7"
  }
 },
 "nbformat": 4,
 "nbformat_minor": 5
}
