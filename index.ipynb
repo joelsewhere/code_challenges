{
 "cells": [
  {
   "cell_type": "markdown",
   "id": "91b87374-a1c1-4f38-aa80-fa681e57efc1",
   "metadata": {
    "index": 0,
    "solution": false
   },
   "source": [
    "## Task 1: Write an `SQL` query that counts how many sequential tasks a person has skipped. "
   ]
  },
  {
   "cell_type": "markdown",
   "id": "6af2e857-e3c4-4e2e-ac8d-2fd880664fb8",
   "metadata": {
    "index": 1,
    "solution": false
   },
   "source": [
    "An sqlite3 database called `calculate_skips.db` is stored in this repository. This database contains a single table called `tasks`.\n",
    "\n",
    "### Let's set up a connection to the database and load in the `tasks` table.\n",
    "\n",
    "**Below we..**\n",
    "\n",
    "- Open a connection to the sqlite database\n",
    "- Define a helper function to make querying data easier"
   ]
  },
  {
   "cell_type": "code",
   "execution_count": 21,
   "id": "41b4ac1f-314b-4b25-86dc-3dfc2fcb17f4",
   "metadata": {},
   "outputs": [
    {
     "name": "stderr",
     "output_type": "stream",
     "text": [
      "100%|█████████████████████████████████████████████████████████████████████████████████████████████████████████████████████████████████████████████████████████████████████████████████████████| 100/100 [39:25<00:00, 23.66s/it]\n"
     ]
    }
   ],
   "source": [
    "#__CURRICULUM__\n",
    "from tests import generate_test_data\n",
    "\n",
    "generate_test_data(100)"
   ]
  },
  {
   "cell_type": "code",
   "execution_count": 2,
   "id": "d8b47f6b-5781-4c33-9496-a4c249d7cb6a",
   "metadata": {
    "index": 3,
    "solution": false
   },
   "outputs": [],
   "source": [
    "# Run this cell unchanged\n",
    "import os\n",
    "import sqlite3\n",
    "\n",
    "# Open connection\n",
    "db_path  = os.path.join('data', 'calculate_skips.db')\n",
    "connection = sqlite3.connect(db_path)\n",
    "\n",
    "# Helper function\n",
    "def run_query(query_string):\n",
    "    \n",
    "    return pd.read_sql(query_string, connection)"
   ]
  },
  {
   "cell_type": "markdown",
   "id": "02617f4b-ea52-4de5-a328-a19f642cf51a",
   "metadata": {
    "index": 5,
    "solution": false
   },
   "source": [
    "To query the database you can pass a query string into the `run_query` helper function."
   ]
  },
  {
   "cell_type": "code",
   "execution_count": null,
   "id": "8d489877-7936-44dd-b777-cf778a9ba71a",
   "metadata": {
    "index": 6,
    "solution": false
   },
   "outputs": [],
   "source": [
    "# Run this cell unchanged\n",
    "query = 'select * from tasks'\n",
    "\n",
    "run_query(query)"
   ]
  },
  {
   "cell_type": "markdown",
   "id": "9858cb08-bd84-4a04-a6c7-8511d1f7279a",
   "metadata": {
    "index": 8,
    "solution": false
   },
   "source": [
    "### Write your query\n",
    "\n",
    "Your query should return the following table:\n",
    "\n",
    "| person | skipped |\n",
    "|--------|:---------:|\n",
    "|Person A| 1       |\n",
    "|Person B| 2       |\n",
    "|Person C| 0       |"
   ]
  },
  {
   "cell_type": "code",
   "execution_count": null,
   "id": "ad0732c2-8390-4b21-9446-b2d835516c0f",
   "metadata": {
    "index": 9,
    "solution": false
   },
   "outputs": [],
   "source": [
    "# Your code goes here\n",
    "query = \"\"\"\n",
    "\n",
    "\n",
    "\"\"\""
   ]
  },
  {
   "cell_type": "markdown",
   "id": "c6a962e0-b847-4d82-88b3-60b81f0c5587",
   "metadata": {
    "index": 11,
    "solution": false
   },
   "source": [
    "**Run the cell below to check your query's result**"
   ]
  },
  {
   "cell_type": "code",
   "execution_count": null,
   "id": "96911c58-7125-470c-974a-c7a5d21247e1",
   "metadata": {
    "index": 12,
    "solution": false
   },
   "outputs": [],
   "source": [
    "# Run this cell unchanged\n",
    "run_query(query)"
   ]
  },
  {
   "cell_type": "code",
   "execution_count": null,
   "id": "d15d1767-66f5-44a3-9918-e0126fecf802",
   "metadata": {
    "index": 14,
    "solution": false
   },
   "outputs": [],
   "source": [
    "# Run this cell unchanged\n",
    "from tests import test_query\n",
    "test_query(query)"
   ]
  },
  {
   "cell_type": "markdown",
   "id": "758f79ac-c36c-4baa-b3c8-78dc8d7633f5",
   "metadata": {
    "index": 15,
    "solution": false
   },
   "source": [
    "**Run the cell below to test your query**"
   ]
  },
  {
   "cell_type": "markdown",
   "id": "47a7daf0-40dd-44cb-9475-37bb6537fdd6",
   "metadata": {
    "index": 17,
    "solution": false
   },
   "source": [
    "## Task 2: Define a function that calculates skip counts in a pandas dataframe\n",
    "\n",
    "Below, we load in the `tasks` table and store the data in the variable `df`"
   ]
  },
  {
   "cell_type": "code",
   "execution_count": null,
   "id": "6bfd2f14-2034-48a1-943d-a412098ab370",
   "metadata": {
    "index": 18,
    "solution": false
   },
   "outputs": [],
   "source": [
    "# Run this cell unchanged\n",
    "df = run_query('select * from tasks')\n",
    "df.head(3)"
   ]
  },
  {
   "cell_type": "markdown",
   "id": "3c9e2646-32fc-4374-a4e6-f27f06288e1c",
   "metadata": {
    "index": 20,
    "solution": false
   },
   "source": [
    "In the cell below, define a function that\n",
    "- Receives a dataframe with `['person', 'task_name', 'ordinality', 'completed']` columns\n",
    "- Returns a table that counts the number of skipped lessons for each person\n",
    "\n",
    "For the dataframe shown above, the function should output a table with the `person` column set as the index. The output should look like this:\n",
    "\n",
    "| person | skipped |\n",
    "|--------|:---------:|\n",
    "|Person A| 1       |\n",
    "|Person B| 2       |\n",
    "|Person C| 0       |\n",
    "\n",
    "_Please note: This function will be tested against *other* randomly generated datasets with the same column names and datatypes. So the function should be written to return skip counts for whatever dataset is passed as an argument_\n",
    "\n"
   ]
  },
  {
   "cell_type": "code",
   "execution_count": null,
   "id": "d60e497e-44c2-48d3-8945-8260b45c0594",
   "metadata": {
    "index": 21,
    "solution": false
   },
   "outputs": [],
   "source": [
    "def calculate_skips(dataframe):\n",
    "    # Your code goes here\n",
    "    pass"
   ]
  },
  {
   "cell_type": "markdown",
   "id": "546c41e6-3970-4bc1-a836-b3c906269bd7",
   "metadata": {
    "index": 23,
    "solution": false
   },
   "source": [
    "**Run the cell below to check your function's output**"
   ]
  },
  {
   "cell_type": "code",
   "execution_count": null,
   "id": "172455b5-c7fc-42bf-abe0-2035185e84e4",
   "metadata": {
    "index": 24,
    "solution": false
   },
   "outputs": [],
   "source": [
    "# Run this cell unchanged\n",
    "calculate_skips(df)"
   ]
  },
  {
   "cell_type": "markdown",
   "id": "341726a3-5e88-43ed-b51b-0b6d1dadadf4",
   "metadata": {
    "index": 26,
    "solution": false
   },
   "source": [
    "**Run the cell below to test your function**"
   ]
  },
  {
   "cell_type": "code",
   "execution_count": null,
   "id": "4d474c36-1d11-47bf-a3e6-58760918d3f1",
   "metadata": {
    "index": 27,
    "solution": false
   },
   "outputs": [],
   "source": [
    "# Run this cell unchanged\n",
    "from tests import test_function\n",
    "test_function(calculate_skips)"
   ]
  }
 ],
 "metadata": {
  "kernelspec": {
   "display_name": "Python [conda env:general] *",
   "language": "python",
   "name": "conda-env-general-py"
  },
  "language_info": {
   "codemirror_mode": {
    "name": "ipython",
    "version": 3
   },
   "file_extension": ".py",
   "mimetype": "text/x-python",
   "name": "python",
   "nbconvert_exporter": "python",
   "pygments_lexer": "ipython3",
   "version": "3.10.2"
  }
 },
 "nbformat": 4,
 "nbformat_minor": 5
}
